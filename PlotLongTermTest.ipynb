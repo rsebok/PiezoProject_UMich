{
 "cells": [
  {
   "cell_type": "code",
   "execution_count": 1,
   "id": "451bd965",
   "metadata": {},
   "outputs": [],
   "source": [
    "import pandas as pd\n",
    "from matplotlib import pyplot as plt\n",
    "import matplotlib.axes\n",
    "from matplotlib.offsetbox import AnchoredText\n",
    "import csv\n",
    "import pylab as pl\n",
    "import numpy as np\n",
    "import config_constants as cc\n",
    "from collections import OrderedDict\n",
    "import itertools"
   ]
  },
  {
   "cell_type": "code",
   "execution_count": 2,
   "id": "5643ad20",
   "metadata": {},
   "outputs": [],
   "source": [
    "#load data\n",
    "#folder = '.\\Results\\LongTermTest_20230613_212132'\n",
    "#folder = '.\\Results\\LongTermTest_20230614_080628'\n",
    "#folder = '.\\Results\\LongTermTest_20230614_091955'\n",
    "#folder = '.\\Results\\LongTermTest_20230614_103249'\n",
    "folder = '.\\Results\\LongTermTest_20230713_162455'\n",
    "\n",
    "winlist = folder+'\\WinList'\n",
    "losslist = folder+'\\LossList'\n",
    "finalslist = folder+'\\FinalsList'\n",
    "errorlist = folder+'\\ErrorList'\n",
    "destlist = folder+'\\DestList'\n",
    "attemptlist = folder+'\\AttemptList'\n",
    "moveslist = folder+'\\MovesList'"
   ]
  },
  {
   "cell_type": "code",
   "execution_count": 3,
   "id": "c586c181",
   "metadata": {},
   "outputs": [],
   "source": [
    "headers = ['X (mm)', 'Y (mm)']\n",
    "\n",
    "data = pd.read_csv('%s.csv' %folder, names=headers) #select your file\n",
    "start = data.iloc[0::2, :]\n",
    "end = data.iloc[1::2, :]"
   ]
  },
  {
   "cell_type": "code",
   "execution_count": 4,
   "id": "52f860c9",
   "metadata": {},
   "outputs": [],
   "source": [
    "start = start*1000\n",
    "end = end*1000"
   ]
  },
  {
   "cell_type": "code",
   "execution_count": 5,
   "id": "32f00cfa",
   "metadata": {
    "scrolled": true
   },
   "outputs": [
    {
     "name": "stdout",
     "output_type": "stream",
     "text": [
      "          X (mm)       Y (mm)\n",
      "0   14312.994399  9207.382451\n",
      "2   14286.202211  9211.516830\n",
      "4   14305.873524  9211.746290\n",
      "6   14303.259681  9195.922971\n",
      "8   14302.489730  9219.862467\n",
      "10  14232.986378  9221.611289\n",
      "         X (mm)       Y (mm)\n",
      "1  14285.319584  9212.124223\n",
      "3  14305.624698  9211.461079\n",
      "5  14304.812494  9198.806767\n",
      "7  14303.361793  9220.715164\n",
      "9  14230.964083  9220.698146\n"
     ]
    }
   ],
   "source": [
    "print(start)\n",
    "print(end)"
   ]
  },
  {
   "cell_type": "code",
   "execution_count": 6,
   "id": "fd65131a",
   "metadata": {
    "scrolled": false
   },
   "outputs": [
    {
     "data": {
      "image/png": "[encoded data removed]",
      "text/plain": [
       "<Figure size 1080x1080 with 1 Axes>"
      ]
     },
     "metadata": {
      "needs_background": "light"
     },
     "output_type": "display_data"
    }
   ],
   "source": [
    "# Plot\n",
    "steps = list(range(1,len(data['X (mm)']) +1))\n",
    "\n",
    "figure = plt.figure(figsize=(15, 15))\n",
    "ax = figure.add_subplot(111)\n",
    "plt.scatter(start['X (mm)'], start['Y (mm)'],color='red',label=\"Moves\",marker='.')\n",
    "plt.scatter(end['X (mm)'], end['Y (mm)'],color='blue',label=\"Moves\",marker='.')\n",
    "\n",
    "for (xi, yi, i) in zip(end['X (mm)'], end['Y (mm)'],steps):\n",
    "    plt.text(xi, yi, i, va='bottom', ha='center')\n",
    "    \n",
    "circle_x = cc.circle['circle_x']*1000 \n",
    "circle_y = cc.circle['circle_y']*1000    \n",
    "circle_r = cc.circle['circle_r']*1000\n",
    "circle1 = plt.Circle( (circle_x, circle_y ), circle_r , fill = False )\n",
    "circle2 = plt.Circle( (circle_x, circle_y ), 250 , fill = False, color = 'r', linestyle = '--')\n",
    "ax.add_artist( circle1 )\n",
    "ax.add_artist( circle2 )\n",
    "\n",
    "    \n",
    "ab = AnchoredText(\"University of Michigan Piezo Positioner Test Stand\", loc=\"lower left\", frameon=False, borderpad=0, prop=dict(alpha=0.5), )\n",
    "ab.set_zorder(0)\n",
    "ax.add_artist(ab)\n",
    "\n",
    "plt.title(folder)\n",
    "plt.axis('equal')\n",
    "plt.xlabel('X (mm)')\n",
    "plt.ylabel('Y (mm)')\n",
    "plt.legend(loc='upper right')\n",
    "plt.show()"
   ]
  },
  {
   "cell_type": "code",
   "execution_count": 7,
   "id": "1b4dd8aa",
   "metadata": {},
   "outputs": [],
   "source": [
    "endx = end['X (mm)'].tolist()\n",
    "endy = end['Y (mm)'].tolist()\n",
    "startx = start['X (mm)'].tolist()\n",
    "starty = start['Y (mm)'].tolist()"
   ]
  },
  {
   "cell_type": "code",
   "execution_count": 8,
   "id": "f75be0e8",
   "metadata": {
    "scrolled": true
   },
   "outputs": [
    {
     "ename": "ValueError",
     "evalue": "operands could not be broadcast together with shapes (5,) (6,) ",
     "output_type": "error",
     "traceback": [
      "\u001b[1;31m---------------------------------------------------------------------------\u001b[0m",
      "\u001b[1;31mValueError\u001b[0m                                Traceback (most recent call last)",
      "Input \u001b[1;32mIn [8]\u001b[0m, in \u001b[0;36m<cell line: 1>\u001b[1;34m()\u001b[0m\n\u001b[1;32m----> 1\u001b[0m xdiffs \u001b[38;5;241m=\u001b[39m \u001b[43mnp\u001b[49m\u001b[38;5;241;43m.\u001b[39;49m\u001b[43msubtract\u001b[49m\u001b[43m(\u001b[49m\u001b[43mendx\u001b[49m\u001b[43m,\u001b[49m\u001b[43m \u001b[49m\u001b[43mstartx\u001b[49m\u001b[43m)\u001b[49m\n\u001b[0;32m      2\u001b[0m xdiffs \u001b[38;5;241m=\u001b[39m \u001b[38;5;28mlist\u001b[39m(xdiffs)\n\u001b[0;32m      4\u001b[0m ydiffs \u001b[38;5;241m=\u001b[39m np\u001b[38;5;241m.\u001b[39msubtract(endy, starty)\n",
      "\u001b[1;31mValueError\u001b[0m: operands could not be broadcast together with shapes (5,) (6,) "
     ]
    }
   ],
   "source": [
    "xdiffs = np.subtract(endx, startx)\n",
    "xdiffs = list(xdiffs)\n",
    "\n",
    "ydiffs = np.subtract(endy, starty)\n",
    "ydiffs = list(ydiffs)"
   ]
  },
  {
   "cell_type": "code",
   "execution_count": null,
   "id": "f933e0de",
   "metadata": {
    "scrolled": true
   },
   "outputs": [],
   "source": [
    "print(xdiffs)"
   ]
  },
  {
   "cell_type": "code",
   "execution_count": null,
   "id": "db2a9745",
   "metadata": {
    "scrolled": true
   },
   "outputs": [],
   "source": [
    "print(ydiffs)"
   ]
  },
  {
   "cell_type": "code",
   "execution_count": null,
   "id": "198279b9",
   "metadata": {},
   "outputs": [],
   "source": [
    "plt.plot(xdiffs)"
   ]
  },
  {
   "cell_type": "code",
   "execution_count": null,
   "id": "0313ee07",
   "metadata": {},
   "outputs": [],
   "source": [
    "plt.plot(ydiffs)"
   ]
  },
  {
   "cell_type": "code",
   "execution_count": null,
   "id": "29659683",
   "metadata": {},
   "outputs": [],
   "source": [
    "def moving_average(x, w):\n",
    "    return np.convolve(x, np.ones(w), 'valid') / w\n",
    "\n",
    "negxdiffs = xdiffs[0::4]\n",
    "posxdiffs = xdiffs[1::4]\n",
    "negydiffs = ydiffs[2::4]\n",
    "posydiffs = ydiffs[3::4]"
   ]
  },
  {
   "cell_type": "code",
   "execution_count": null,
   "id": "2c13e983",
   "metadata": {},
   "outputs": [],
   "source": [
    "posxavg = moving_average(posxdiffs,10)\n",
    "negxavg = moving_average(negxdiffs,10)\n",
    "posyavg = moving_average(posydiffs,10)\n",
    "negyavg = moving_average(negydiffs,10)"
   ]
  },
  {
   "cell_type": "code",
   "execution_count": null,
   "id": "61cd6c13",
   "metadata": {},
   "outputs": [],
   "source": [
    "fig, axs = plt.subplots(2, 2, figsize=(12, 12))\n",
    "\n",
    "axs[0, 0].plot(posxdiffs,color='skyblue')\n",
    "axs[0, 0].plot(posxavg)\n",
    "axs[0, 0].set_title('Pos X')\n",
    "\n",
    "axs[0, 1].plot(negxdiffs,color='skyblue')\n",
    "axs[0, 1].plot(negxavg)\n",
    "axs[0, 1].set_title('Neg X')\n",
    "\n",
    "axs[1, 0].plot(posydiffs,color='skyblue')\n",
    "axs[1, 0].plot(posyavg)\n",
    "axs[1, 0].set_title('Pos Y')\n",
    "\n",
    "axs[1, 1].plot(negydiffs,color='skyblue')\n",
    "axs[1, 1].plot(negyavg)\n",
    "axs[1, 1].set_title('Neg Y')\n",
    "\n",
    "for ax in axs.flat:\n",
    "    ax.set(xlabel='Move #', ylabel='Distance moved (um)')"
   ]
  },
  {
   "cell_type": "code",
   "execution_count": null,
   "id": "55b921da",
   "metadata": {},
   "outputs": [],
   "source": [
    "#when difff voltages, use this instead:\n",
    "negxdiffs1 = xdiffs[0::12]\n",
    "posxdiffs1 = xdiffs[1::12]\n",
    "negydiffs1 = ydiffs[2::12]\n",
    "posydiffs1 = ydiffs[3::12]\n",
    "negxdiffs15 = xdiffs[4::12]\n",
    "posxdiffs15 = xdiffs[5::12]\n",
    "negydiffs15 = ydiffs[6::12]\n",
    "posydiffs15 = ydiffs[7::12]\n",
    "negxdiffs2 = xdiffs[8::12]\n",
    "posxdiffs2 = xdiffs[9::12]\n",
    "negydiffs2 = ydiffs[10::12]\n",
    "posydiffs2 = ydiffs[11::12]"
   ]
  },
  {
   "cell_type": "code",
   "execution_count": null,
   "id": "bafabc6e",
   "metadata": {},
   "outputs": [],
   "source": [
    "posxavg1 = moving_average(posxdiffs1,10)\n",
    "negxavg1 = moving_average(negxdiffs1,10)\n",
    "posyavg1 = moving_average(posydiffs1,10)\n",
    "negyavg1 = moving_average(negydiffs1,10)\n",
    "posxavg15 = moving_average(posxdiffs15,10)\n",
    "negxavg15 = moving_average(negxdiffs15,10)\n",
    "posyavg15 = moving_average(posydiffs15,10)\n",
    "negyavg15 = moving_average(negydiffs15,10)\n",
    "posxavg2 = moving_average(posxdiffs2,10)\n",
    "negxavg2 = moving_average(negxdiffs2,10)\n",
    "posyavg2 = moving_average(posydiffs2,10)\n",
    "negyavg2 = moving_average(negydiffs2,10)"
   ]
  },
  {
   "cell_type": "code",
   "execution_count": null,
   "id": "a7412709",
   "metadata": {},
   "outputs": [],
   "source": [
    "x = [1,1.5,2]\n",
    "y = [np.average(posxavg1),np.average(posxavg15),np.average(posxavg2)]\n",
    "\n",
    "m,b = np.polyfit(x, y, 1)\n",
    "print('Pos X slope:',m)\n",
    "print('Pos X intercept:',b)\n",
    "\n",
    "y = [np.average(negxavg1),np.average(negxavg15),np.average(negxavg2)]\n",
    "\n",
    "m,b = np.polyfit(x, y, 1)\n",
    "print('Neg X slope:',m)\n",
    "print('Neg X intercept:',b)\n",
    "\n",
    "y = [np.average(posyavg1),np.average(posyavg15),np.average(posyavg2)]\n",
    "\n",
    "m,b = np.polyfit(x, y, 1)\n",
    "print('Pos Y slope:',m)\n",
    "print('Pos Y intercept:',b)\n",
    "\n",
    "y = [np.average(negyavg1),np.average(negyavg15),np.average(negyavg2)]\n",
    "\n",
    "m,b = np.polyfit(x, y, 1)\n",
    "print('Neg Y slope:',m)\n",
    "print('Neg Y intercept:',b)"
   ]
  },
  {
   "cell_type": "code",
   "execution_count": null,
   "id": "cca603e4",
   "metadata": {},
   "outputs": [],
   "source": [
    "fig, axs = plt.subplots(2, 2, figsize=(12, 12))\n",
    "\n",
    "axs[0, 0].plot(posxdiffs1,color='skyblue')\n",
    "axs[0, 0].plot(posxavg1)\n",
    "axs[0, 0].set_title('Pos X (1V)')\n",
    "\n",
    "axs[0, 1].plot(negxdiffs1,color='skyblue')\n",
    "axs[0, 1].plot(negxavg1)\n",
    "axs[0, 1].set_title('Neg X (1V)')\n",
    "\n",
    "axs[1, 0].plot(posydiffs1,color='skyblue')\n",
    "axs[1, 0].plot(posyavg1)\n",
    "axs[1, 0].set_title('Pos Y (1V)')\n",
    "\n",
    "axs[1, 1].plot(negydiffs1,color='skyblue')\n",
    "axs[1, 1].plot(negyavg1)\n",
    "axs[1, 1].set_title('Neg Y (1V)')\n",
    "\n",
    "for ax in axs.flat:\n",
    "    ax.set(xlabel='Move #', ylabel='Distance moved (um)')"
   ]
  },
  {
   "cell_type": "code",
   "execution_count": null,
   "id": "726f1f42",
   "metadata": {},
   "outputs": [],
   "source": [
    "fig, axs = plt.subplots(2, 2, figsize=(12, 12))\n",
    "\n",
    "axs[0, 0].plot(posxdiffs15,color='skyblue')\n",
    "axs[0, 0].plot(posxavg15)\n",
    "axs[0, 0].set_title('Pos X (1.5V)')\n",
    "\n",
    "axs[0, 1].plot(negxdiffs15,color='skyblue')\n",
    "axs[0, 1].plot(negxavg15)\n",
    "axs[0, 1].set_title('Neg X (1.5V)')\n",
    "\n",
    "axs[1, 0].plot(posydiffs15,color='skyblue')\n",
    "axs[1, 0].plot(posyavg15)\n",
    "axs[1, 0].set_title('Pos Y (1.5V)')\n",
    "\n",
    "axs[1, 1].plot(negydiffs15,color='skyblue')\n",
    "axs[1, 1].plot(negyavg15)\n",
    "axs[1, 1].set_title('Neg Y (1.5V)')\n",
    "\n",
    "for ax in axs.flat:\n",
    "    ax.set(xlabel='Move #', ylabel='Distance moved (um)')"
   ]
  },
  {
   "cell_type": "code",
   "execution_count": null,
   "id": "9e1022e8",
   "metadata": {},
   "outputs": [],
   "source": [
    "fig, axs = plt.subplots(2, 2, figsize=(12, 12))\n",
    "\n",
    "axs[0, 0].plot(posxdiffs2,color='skyblue')\n",
    "axs[0, 0].plot(posxavg2)\n",
    "axs[0, 0].set_title('Pos X (2V)')\n",
    "\n",
    "axs[0, 1].plot(negxdiffs2,color='skyblue')\n",
    "axs[0, 1].plot(negxavg2)\n",
    "axs[0, 1].set_title('Neg X (2V)')\n",
    "\n",
    "axs[1, 0].plot(posydiffs2,color='skyblue')\n",
    "axs[1, 0].plot(posyavg2)\n",
    "axs[1, 0].set_title('Pos Y (2V)')\n",
    "\n",
    "axs[1, 1].plot(negydiffs2,color='skyblue')\n",
    "axs[1, 1].plot(negyavg2)\n",
    "axs[1, 1].set_title('Neg Y (2V)')\n",
    "\n",
    "for ax in axs.flat:\n",
    "    ax.set(xlabel='Move #', ylabel='Distance moved (um)')"
   ]
  },
  {
   "cell_type": "code",
   "execution_count": null,
   "id": "f07c2ba6",
   "metadata": {},
   "outputs": [],
   "source": []
  },
  {
   "cell_type": "code",
   "execution_count": null,
   "id": "442467fa",
   "metadata": {},
   "outputs": [],
   "source": []
  }
 ],
 "metadata": {
  "kernelspec": {
   "display_name": "Python 3 (ipykernel)",
   "language": "python",
   "name": "python3"
  },
  "language_info": {
   "codemirror_mode": {
    "name": "ipython",
    "version": 3
   },
   "file_extension": ".py",
   "mimetype": "text/x-python",
   "name": "python",
   "nbconvert_exporter": "python",
   "pygments_lexer": "ipython3",
   "version": "3.9.12"
  }
 },
 "nbformat": 4,
 "nbformat_minor": 5
}

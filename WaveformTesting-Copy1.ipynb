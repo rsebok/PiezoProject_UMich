{
 "cells": [
  {
   "cell_type": "code",
   "execution_count": 1,
   "id": "f01f12d0",
   "metadata": {
    "scrolled": true
   },
   "outputs": [
    {
     "data": {
      "text/html": [
       "<div id=\"glowscript\" class=\"glowscript\"></div>"
      ],
      "text/plain": [
       "<IPython.core.display.HTML object>"
      ]
     },
     "metadata": {},
     "output_type": "display_data"
    },
    {
     "data": {
      "application/javascript": [
       "if (typeof Jupyter !== \"undefined\") { window.__context = { glowscript_container: $(\"#glowscript\").removeAttr(\"id\")};}else{ element.textContent = ' ';}"
      ],
      "text/plain": [
       "<IPython.core.display.Javascript object>"
      ]
     },
     "metadata": {},
     "output_type": "display_data"
    }
   ],
   "source": [
    "import time\n",
    "import random\n",
    "import math\n",
    "import array\n",
    "import pandas as pd\n",
    "from matplotlib import pyplot as plt\n",
    "import matplotlib.axes\n",
    "from matplotlib.offsetbox import AnchoredText\n",
    "import numpy as np\n",
    "import pyvisa as visa\n",
    "import os\n",
    "from AutoCircleCopyRS import move_circle\n",
    "from move_by_XY import moveXY\n",
    "from GrabLocation import grab_location\n",
    "import config_constants as cc\n",
    "import cv2\n",
    "import sys\n",
    "import usb.core\n",
    "import usb.util\n",
    "from Waveform_autotest import auto_test\n",
    "import smtplib\n",
    "from email.mime.text import MIMEText\n",
    "import config_constants as cc\n",
    "from Movements import move_negX,move_posX,move_negY,move_posY\n",
    "from TinyMovements import tinymove_negX,tinymove_posX,tinymove_negY,tinymove_posY\n",
    "from PixMovements import pixmove_negX,pixmove_posX,pixmove_negY,pixmove_posY\n",
    "from SmallMovements import smallmove_negX,smallmove_posX,smallmove_negY,smallmove_posY"
   ]
  },
  {
   "cell_type": "code",
   "execution_count": 11,
   "id": "72c89555",
   "metadata": {
    "scrolled": false
   },
   "outputs": [
    {
     "data": {
      "text/html": [
       "<div id=\"glowscript\" class=\"glowscript\"></div>"
      ],
      "text/plain": [
       "<IPython.core.display.HTML object>"
      ]
     },
     "metadata": {},
     "output_type": "display_data"
    },
    {
     "data": {
      "application/javascript": [
       "if (typeof Jupyter !== \"undefined\") { window.__context = { glowscript_container: $(\"#glowscript\").removeAttr(\"id\")};}else{ element.textContent = ' ';}"
      ],
      "text/plain": [
       "<IPython.core.display.Javascript object>"
      ]
     },
     "metadata": {},
     "output_type": "display_data"
    },
    {
     "name": "stdout",
     "output_type": "stream",
     "text": [
      "0 -0.01\n",
      "negY 2.5 Vpp 1 s\n",
      "Configuring C2\n",
      "Small move done.\n"
     ]
    },
    {
     "data": {
      "text/html": [
       "<div id=\"glowscript\" class=\"glowscript\"></div>"
      ],
      "text/plain": [
       "<IPython.core.display.HTML object>"
      ]
     },
     "metadata": {},
     "output_type": "display_data"
    },
    {
     "data": {
      "application/javascript": [
       "if (typeof Jupyter !== \"undefined\") { window.__context = { glowscript_container: $(\"#glowscript\").removeAttr(\"id\")};}else{ element.textContent = ' ';}"
      ],
      "text/plain": [
       "<IPython.core.display.Javascript object>"
      ]
     },
     "metadata": {},
     "output_type": "display_data"
    }
   ],
   "source": [
    "x0, y0 = grab_location('junk')\n",
    "moveXY(0,-0.01)\n",
    "x, y = grab_location('junk')"
   ]
  },
  {
   "cell_type": "code",
   "execution_count": 12,
   "id": "6a8fe213",
   "metadata": {},
   "outputs": [
    {
     "name": "stdout",
     "output_type": "stream",
     "text": [
      "14.508932876586913 11.118362045288086\n",
      "14.510466384887694 11.11124382019043\n"
     ]
    }
   ],
   "source": [
    "print(x0,y0)\n",
    "print(x,y)"
   ]
  },
  {
   "cell_type": "code",
   "execution_count": 4,
   "id": "162af3ba",
   "metadata": {
    "scrolled": true
   },
   "outputs": [
    {
     "ename": "NameError",
     "evalue": "name 'xcoords' is not defined",
     "output_type": "error",
     "traceback": [
      "\u001b[1;31m---------------------------------------------------------------------------\u001b[0m",
      "\u001b[1;31mNameError\u001b[0m                                 Traceback (most recent call last)",
      "Input \u001b[1;32mIn [4]\u001b[0m, in \u001b[0;36m<cell line: 1>\u001b[1;34m()\u001b[0m\n\u001b[1;32m----> 1\u001b[0m plt\u001b[38;5;241m.\u001b[39mscatter(\u001b[43mxcoords\u001b[49m,ycoords,c\u001b[38;5;241m=\u001b[39msteps,cmap\u001b[38;5;241m=\u001b[39m\u001b[38;5;124m'\u001b[39m\u001b[38;5;124mrainbow_r\u001b[39m\u001b[38;5;124m'\u001b[39m)\n\u001b[0;32m      2\u001b[0m plt\u001b[38;5;241m.\u001b[39mcolorbar(label\u001b[38;5;241m=\u001b[39m\u001b[38;5;124m'\u001b[39m\u001b[38;5;124mPhoto #\u001b[39m\u001b[38;5;124m'\u001b[39m)\n\u001b[0;32m      3\u001b[0m plt\u001b[38;5;241m.\u001b[39mtitle(\u001b[38;5;124m\"\u001b[39m\u001b[38;5;124mLocation over time (mm)\u001b[39m\u001b[38;5;124m\"\u001b[39m)\n",
      "\u001b[1;31mNameError\u001b[0m: name 'xcoords' is not defined"
     ]
    }
   ],
   "source": [
    "plt.scatter(xcoords,ycoords,c=steps,cmap='rainbow_r')\n",
    "plt.colorbar(label='Photo #')\n",
    "plt.title(\"Location over time (mm)\")\n",
    "plt.axis('equal')\n",
    "plt.show()"
   ]
  },
  {
   "cell_type": "code",
   "execution_count": null,
   "id": "7bd9fc5d",
   "metadata": {},
   "outputs": [],
   "source": [
    "distancex = []\n",
    "for i in range(len(x0coords)):\n",
    "    result = xcoords[i] - x0coords[i]\n",
    "    distancex.append(result)\n",
    "    \n",
    "print(distancex)\n",
    "print(np.mean(distancex)*1000)"
   ]
  },
  {
   "cell_type": "code",
   "execution_count": null,
   "id": "694faa5e",
   "metadata": {},
   "outputs": [],
   "source": [
    "distancey = []\n",
    "for i in range(len(y0coords)):\n",
    "    result = ycoords[i] - y0coords[i]\n",
    "    distancey.append(result)\n",
    "    \n",
    "print(distancey)\n",
    "print(np.mean(distancey)*1000)"
   ]
  },
  {
   "cell_type": "code",
   "execution_count": null,
   "id": "e6eba893",
   "metadata": {},
   "outputs": [],
   "source": [
    "thetax = np.arctan(np.mean(distancey)/np.mean(distancex))\n",
    "print(thetax*180/np.pi)"
   ]
  },
  {
   "cell_type": "code",
   "execution_count": null,
   "id": "04a1bfd0",
   "metadata": {},
   "outputs": [],
   "source": [
    "thetay = np.arctan(np.mean(distancex)/np.mean(distancey))\n",
    "print(thetay*180/np.pi)"
   ]
  },
  {
   "cell_type": "code",
   "execution_count": null,
   "id": "2ca2a02f",
   "metadata": {},
   "outputs": [],
   "source": []
  }
 ],
 "metadata": {
  "kernelspec": {
   "display_name": "Python 3 (ipykernel)",
   "language": "python",
   "name": "python3"
  },
  "language_info": {
   "codemirror_mode": {
    "name": "ipython",
    "version": 3
   },
   "file_extension": ".py",
   "mimetype": "text/x-python",
   "name": "python",
   "nbconvert_exporter": "python",
   "pygments_lexer": "ipython3",
   "version": "3.9.12"
  }
 },
 "nbformat": 4,
 "nbformat_minor": 5
}

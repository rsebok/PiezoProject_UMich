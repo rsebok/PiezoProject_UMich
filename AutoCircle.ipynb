{
 "cells": [
  {
   "cell_type": "code",
   "execution_count": 16,
   "id": "674c1cfc",
   "metadata": {},
   "outputs": [],
   "source": [
    "import pyvisa as visa\n",
    "#import visa\n",
    "import time\n",
    "import cv2\n",
    "import sys\n",
    "import usb.core\n",
    "import usb.util"
   ]
  },
  {
   "cell_type": "code",
   "execution_count": 17,
   "id": "51efa3d1",
   "metadata": {
    "scrolled": true
   },
   "outputs": [
    {
     "name": "stdout",
     "output_type": "stream",
     "text": [
      "('USB0::0x2A8D::0x0387::CN61022130::0::INSTR', 'USB0::0xF4ED::0xEE3A::388C14124::0::INSTR', 'ASRL1::INSTR', 'ASRL3::INSTR', 'ASRL4::INSTR', 'ASRL5::INSTR', 'ASRL6::INSTR')\n"
     ]
    }
   ],
   "source": [
    "rm = visa.ResourceManager()\n",
    "li = rm.list_resources()\n",
    "print(li)\n",
    "vi = rm.open_resource('USB0::0xF4ED::0xEE3A::388C14124::0::INSTR')"
   ]
  },
  {
   "cell_type": "code",
   "execution_count": 18,
   "id": "21a3dea1",
   "metadata": {},
   "outputs": [],
   "source": [
    "t = 5 #sec"
   ]
  },
  {
   "cell_type": "code",
   "execution_count": 19,
   "id": "543273ca",
   "metadata": {},
   "outputs": [
    {
     "name": "stdout",
     "output_type": "stream",
     "text": [
      "*IDN BK Precision,4052,388C14124,1.01.01.31R1,02-00-00-22-26\n",
      "\n",
      "Configuring C1\n"
     ]
    },
    {
     "data": {
      "text/plain": [
       "15"
      ]
     },
     "execution_count": 19,
     "metadata": {},
     "output_type": "execute_result"
    }
   ],
   "source": [
    "#C1 0 #neg B\n",
    "print(vi.query(\"*idn?\"))\n",
    "print(\"Configuring C1\")\n",
    "vi.write(\"c1:bswv frq,10\") #set the frequency of channel 1\n",
    "vi.write(\"c1:bswv wvtp,ramp\") #set the type of waveform\n",
    "vi.write(\"c1:bswv amp, 4\") #set the amplitude\n",
    "vi.write(\"c1:bswv sym, 0\") #set the amplitude\n",
    "vi.write(\"c1:bswv duty,75\") #duty cycle\n",
    "vi.write(\"c1:bswv dlay, 1\") #brust delay for 1 second\n",
    "vi.write(\"c1:output on\")\n",
    "time.sleep(t)\n",
    "vi.write(\"c1:output off\")"
   ]
  },
  {
   "cell_type": "code",
   "execution_count": 20,
   "id": "0f8e802b",
   "metadata": {},
   "outputs": [
    {
     "name": "stdout",
     "output_type": "stream",
     "text": [
      "*IDN BK Precision,4052,388C14124,1.01.01.31R1,02-00-00-22-26\n",
      "\n",
      "Configuring C2\n"
     ]
    },
    {
     "data": {
      "text/plain": [
       "15"
      ]
     },
     "execution_count": 20,
     "metadata": {},
     "output_type": "execute_result"
    }
   ],
   "source": [
    "#C2 100 #pos A\n",
    "print(vi.query(\"*idn?\"))\n",
    "print(\"Configuring C2\")\n",
    "vi.write(\"c2:bswv frq,10\") #set the frequency of channel 1\n",
    "vi.write(\"c2:bswv wvtp,ramp\") #set the type of waveform\n",
    "vi.write(\"c2:bswv amp, 4\") #set the amplitude\n",
    "vi.write(\"c2:bswv sym, 100\") #set the amplitude\n",
    "vi.write(\"c2:bswv duty,75\") #duty cycle\n",
    "vi.write(\"c2:bswv dlay, 1\") #brust delay for 1 second\n",
    "vi.write(\"c2:output on\")\n",
    "time.sleep(t)\n",
    "vi.write(\"c2:output off\")"
   ]
  },
  {
   "cell_type": "code",
   "execution_count": 21,
   "id": "34f94b5a",
   "metadata": {},
   "outputs": [
    {
     "name": "stdout",
     "output_type": "stream",
     "text": [
      "*IDN BK Precision,4052,388C14124,1.01.01.31R1,02-00-00-22-26\n",
      "\n",
      "Configuring C1\n"
     ]
    },
    {
     "data": {
      "text/plain": [
       "15"
      ]
     },
     "execution_count": 21,
     "metadata": {},
     "output_type": "execute_result"
    }
   ],
   "source": [
    "#C1 100 #pos B\n",
    "print(vi.query(\"*idn?\"))\n",
    "print(\"Configuring C1\")\n",
    "vi.write(\"c1:bswv frq,10\") #set the frequency of channel 1\n",
    "vi.write(\"c1:bswv wvtp,ramp\") #set the type of waveform\n",
    "vi.write(\"c1:bswv amp, 4\") #set the amplitude\n",
    "vi.write(\"c1:bswv sym, 100\") #set the amplitude\n",
    "vi.write(\"c1:bswv duty,75\") #duty cycle\n",
    "vi.write(\"c1:bswv dlay, 1\") #brust delay for 1 second\n",
    "vi.write(\"c1:output on\")\n",
    "time.sleep(t)\n",
    "vi.write(\"c1:output off\")"
   ]
  },
  {
   "cell_type": "code",
   "execution_count": 22,
   "id": "697b5766",
   "metadata": {},
   "outputs": [
    {
     "name": "stdout",
     "output_type": "stream",
     "text": [
      "*IDN BK Precision,4052,388C14124,1.01.01.31R1,02-00-00-22-26\n",
      "\n",
      "Configuring C2\n"
     ]
    },
    {
     "data": {
      "text/plain": [
       "15"
      ]
     },
     "execution_count": 22,
     "metadata": {},
     "output_type": "execute_result"
    }
   ],
   "source": [
    "#C2 0 #neg A\n",
    "print(vi.query(\"*idn?\"))\n",
    "print(\"Configuring C2\")\n",
    "vi.write(\"c2:bswv frq,10\") #set the frequency of channel 1\n",
    "vi.write(\"c2:bswv wvtp,ramp\") #set the type of waveform\n",
    "vi.write(\"c2:bswv amp, 4\") #set the amplitude\n",
    "vi.write(\"c2:bswv sym, 0\") #set the amplitude\n",
    "vi.write(\"c2:bswv duty,75\") #duty cycle\n",
    "vi.write(\"c2:bswv dlay, 1\") #brust delay for 1 second\n",
    "vi.write(\"c2:output on\")\n",
    "time.sleep(t)\n",
    "vi.write(\"c2:output off\")"
   ]
  },
  {
   "cell_type": "code",
   "execution_count": 8,
   "id": "65c7c527",
   "metadata": {},
   "outputs": [
    {
     "name": "stdout",
     "output_type": "stream",
     "text": [
      "*IDN BK Precision,4052,388C14124,1.01.01.31R1,02-00-00-22-26\n",
      "\n",
      "Configuring C1\n"
     ]
    },
    {
     "data": {
      "text/plain": [
       "15"
      ]
     },
     "execution_count": 8,
     "metadata": {},
     "output_type": "execute_result"
    }
   ],
   "source": [
    "#C1 0\n",
    "print(vi.query(\"*idn?\"))\n",
    "print(\"Configuring C1\")\n",
    "vi.write(\"c1:bswv frq,10\") #set the frequency of channel 1\n",
    "vi.write(\"c1:bswv wvtp,ramp\") #set the type of waveform\n",
    "vi.write(\"c1:bswv amp, 4\") #set the amplitude\n",
    "vi.write(\"c1:bswv sym, 0\") #set the amplitude\n",
    "vi.write(\"c1:bswv duty,75\") #duty cycle\n",
    "vi.write(\"c1:bswv dlay, 1\") #brust delay for 1 second\n",
    "vi.write(\"c1:output on\")\n",
    "time.sleep(t)\n",
    "vi.write(\"c1:output off\")"
   ]
  },
  {
   "cell_type": "markdown",
   "id": "51be4218",
   "metadata": {},
   "source": [
    "#C2 100\n",
    "print(vi.query(\"*idn?\"))\n",
    "print(\"Configuring C2\")\n",
    "vi.write(\"c2:bswv frq,10\") #set the frequency of channel 1\n",
    "vi.write(\"c2:bswv wvtp,ramp\") #set the type of waveform\n",
    "vi.write(\"c2:bswv amp, 4\") #set the amplitude\n",
    "vi.write(\"c2:bswv sym, 100\") #set the amplitude\n",
    "vi.write(\"c2:bswv duty,75\") #duty cycle\n",
    "vi.write(\"c2:bswv dlay, 1\") #brust delay for 1 second\n",
    "vi.write(\"c2:output on\")\n",
    "time.sleep(5)\n",
    "vi.write(\"c2:output off\")"
   ]
  },
  {
   "cell_type": "markdown",
   "id": "926b7fbc",
   "metadata": {},
   "source": [
    "        vi.write(\"c1:bswv frq,10\") #set the frequency of channel 1\n",
    "        vi.write(\"c1:bswv wvtp,ramp\") #set the type of waveform\n",
    "        vi.write(\"c1:bswv amp, 4\") #set the amplitude\n",
    "        vi.write(\"c1:bswv sym, 0\") #set the amplitude\n",
    "        vi.write(\"c1:bswv duty,75\") #duty cycle\n",
    "        vi.write(\"c1:bswv dlay, 1\") #brust delay for 1 second\n",
    "        vi.write(\"c1:output on\")\n",
    "        time.sleep(4)\n",
    "        vi.write(\"c1:output off\")\n",
    "                \n",
    "        vi.write(\"c2:bswv frq,10\") #set the frequency of channel 1\n",
    "        vi.write(\"c2:bswv wvtp,ramp\") #set the type of waveform\n",
    "        vi.write(\"c2:bswv amp, 4\") #set the amplitude\n",
    "        vi.write(\"c2:bswv sym, 100\") #set the amplitude\n",
    "        vi.write(\"c2:bswv duty,75\") #duty cycle\n",
    "        vi.write(\"c2:bswv dlay, 1\") #brust delay for 1 second\n",
    "        vi.write(\"c2:output on\")\n",
    "        time.sleep(4)\n",
    "        vi.write(\"c2:output off\")\n",
    "\n",
    "        vi.write(\"c1:bswv frq,10\") #set the frequency of channel 1\n",
    "        vi.write(\"c1:bswv wvtp,ramp\") #set the type of waveform\n",
    "        vi.write(\"c1:bswv amp, 4\") #set the amplitude\n",
    "        vi.write(\"c1:bswv sym, 100\") #set the amplitude\n",
    "        vi.write(\"c1:bswv duty,75\") #duty cycle\n",
    "        vi.write(\"c1:bswv dlay, 1\") #brust delay for 1 second\n",
    "        vi.write(\"c1:output on\")\n",
    "        time.sleep(4)\n",
    "        vi.write(\"c1:output off\")\n",
    "                \n",
    "        vi.write(\"c2:bswv frq,10\") #set the frequency of channel 1\n",
    "        vi.write(\"c2:bswv wvtp,ramp\") #set the type of waveform\n",
    "        vi.write(\"c2:bswv amp, 4\") #set the amplitude\n",
    "        vi.write(\"c2:bswv sym, 0\") #set the amplitude\n",
    "        vi.write(\"c2:bswv duty,75\") #duty cycle\n",
    "        vi.write(\"c2:bswv dlay, 1\") #brust delay for 1 second\n",
    "        vi.write(\"c2:output on\")\n",
    "        time.sleep(4)\n",
    "        vi.write(\"c2:output off\")\n",
    "                \n",
    "        vi.write(\"c1:bswv frq,10\") #set the frequency of channel 1\n",
    "        vi.write(\"c1:bswv wvtp,ramp\") #set the type of waveform\n",
    "        vi.write(\"c1:bswv amp, 4\") #set the amplitude\n",
    "        vi.write(\"c1:bswv sym, 0\") #set the amplitude\n",
    "        vi.write(\"c1:bswv duty,75\") #duty cycle\n",
    "        vi.write(\"c1:bswv dlay, 1\") #brust delay for 1 second\n",
    "        vi.write(\"c1:output on\")\n",
    "        time.sleep(4)\n",
    "        vi.write(\"c1:output off\")\n",
    "                \n",
    "        vi.write(\"c2:bswv frq,10\") #set the frequency of channel 1\n",
    "        vi.write(\"c2:bswv wvtp,ramp\") #set the type of waveform\n",
    "        vi.write(\"c2:bswv amp, 4\") #set the amplitude\n",
    "        vi.write(\"c2:bswv sym, 100\") #set the amplitude\n",
    "        vi.write(\"c2:bswv duty,75\") #duty cycle\n",
    "        vi.write(\"c2:bswv dlay, 1\") #brust delay for 1 second\n",
    "        vi.write(\"c2:output on\")\n",
    "        time.sleep(4)\n",
    "        vi.write(\"c2:output off\")\n",
    "\n"
   ]
  },
  {
   "cell_type": "code",
   "execution_count": 9,
   "id": "3c8783dd",
   "metadata": {},
   "outputs": [],
   "source": [
    "# file with time stand and voltage for the bk percision generator \n",
    "#save the camera video with excat time\n",
    "# allrun need to have a save file with date and time \n",
    "\n",
    "#future plan to get generator ch1 and ch2 graph with the xy plot (two plot)\n",
    "#consider to draw a smallar ciricle (cirlce not recantagle...)\n",
    "#circle plot(x,y,r), generator ch plot, distance plot, \n",
    "#figure out what is duty cycle ?????? (all the channle need to be clear of what rules they are doing)\n",
    "#each step with voltage plot to find uniform steps...\n",
    "# delta x vs angle vs voltage vs length \n"
   ]
  },
  {
   "cell_type": "code",
   "execution_count": null,
   "id": "db5ba678",
   "metadata": {},
   "outputs": [],
   "source": []
  }
 ],
 "metadata": {
  "kernelspec": {
   "display_name": "Python 3 (ipykernel)",
   "language": "python",
   "name": "python3"
  },
  "language_info": {
   "codemirror_mode": {
    "name": "ipython",
    "version": 3
   },
   "file_extension": ".py",
   "mimetype": "text/x-python",
   "name": "python",
   "nbconvert_exporter": "python",
   "pygments_lexer": "ipython3",
   "version": "3.9.12"
  }
 },
 "nbformat": 4,
 "nbformat_minor": 5
}

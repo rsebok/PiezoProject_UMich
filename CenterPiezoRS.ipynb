{
 "cells": [
  {
   "cell_type": "code",
   "execution_count": 1,
   "id": "674c1cfc",
   "metadata": {},
   "outputs": [],
   "source": [
    "import pyvisa as visa\n",
    "import time\n",
    "import cv2\n",
    "import sys\n",
    "import usb.core\n",
    "import usb.util\n",
    "import numpy as np"
   ]
  },
  {
   "cell_type": "code",
   "execution_count": 2,
   "id": "51efa3d1",
   "metadata": {
    "scrolled": true
   },
   "outputs": [
    {
     "name": "stdout",
     "output_type": "stream",
     "text": [
      "('USB0::0x2A8D::0x0387::CN61022130::0::INSTR', 'USB0::0xF4ED::0xEE3A::388C14124::0::INSTR', 'ASRL1::INSTR', 'ASRL3::INSTR', 'ASRL4::INSTR', 'ASRL5::INSTR', 'ASRL6::INSTR')\n"
     ]
    }
   ],
   "source": [
    "rm = visa.ResourceManager()\n",
    "li = rm.list_resources()\n",
    "print(li)\n",
    "vi = rm.open_resource('USB0::0xF4ED::0xEE3A::388C14124::0::INSTR')"
   ]
  },
  {
   "cell_type": "code",
   "execution_count": 3,
   "id": "34f94b5a",
   "metadata": {},
   "outputs": [],
   "source": [
    "def center():\n",
    "    posA_speed = 0.855\n",
    "    posB_speed = 0.681\n",
    "    negB_speed = 0.717\n",
    "    negA_speed = 0.844\n",
    "    \n",
    "    t = 5 #sec\n",
    "    \n",
    "    rm = visa.ResourceManager()\n",
    "    li = rm.list_resources()\n",
    "    print(li)\n",
    "    vi = rm.open_resource('USB0::0xF4ED::0xEE3A::388C14124::0::INSTR')\n",
    "    \n",
    "    i=1\n",
    "    while i<= 2:\n",
    "        #C1 0 #neg B\n",
    "        #print(vi.query(\"*idn?\"))\n",
    "        print(\"Configuring C1\")\n",
    "        vi.write(\"c1:bswv frq,10\") #set the frequency of channel 1\n",
    "        vi.write(\"c1:bswv wvtp,ramp\") #set the type of waveform\n",
    "        vi.write(\"c1:bswv amp, 4\") #set the amplitude\n",
    "        vi.write(\"c1:bswv sym, 0\") #set the amplitude\n",
    "        vi.write(\"c1:bswv duty,75\") #duty cycle\n",
    "        vi.write(\"c1:bswv dlay, 1\") #brust delay for 1 second\n",
    "        vi.write(\"c1:output on\")\n",
    "        time.sleep(t)\n",
    "        vi.write(\"c1:output off\")\n",
    "\n",
    "        #C2 0 #neg A\n",
    "        #print(vi.query(\"*idn?\"))\n",
    "        print(\"Configuring C2\")\n",
    "        vi.write(\"c2:bswv frq,10\") #set the frequency of channel 1\n",
    "        vi.write(\"c2:bswv wvtp,ramp\") #set the type of waveform\n",
    "        vi.write(\"c2:bswv amp, 4\") #set the amplitude\n",
    "        vi.write(\"c2:bswv sym, 0\") #set the amplitude\n",
    "        vi.write(\"c2:bswv duty,75\") #duty cycle\n",
    "        vi.write(\"c2:bswv dlay, 1\") #brust delay for 1 second\n",
    "        vi.write(\"c2:output on\")\n",
    "        time.sleep(t)\n",
    "        vi.write(\"c2:output off\")\n",
    "\n",
    "        #C1 100 #pos B\n",
    "        #print(vi.query(\"*idn?\"))\n",
    "        print(\"Configuring C1\")\n",
    "        vi.write(\"c1:bswv frq,10\") #set the frequency of channel 1\n",
    "        vi.write(\"c1:bswv wvtp,ramp\") #set the type of waveform\n",
    "        vi.write(\"c1:bswv amp, 4\") #set the amplitude\n",
    "        vi.write(\"c1:bswv sym, 100\") #set the amplitude\n",
    "        vi.write(\"c1:bswv duty,75\") #duty cycle\n",
    "        vi.write(\"c1:bswv dlay, 1\") #brust delay for 1 second\n",
    "        vi.write(\"c1:output on\")\n",
    "        time.sleep(t)\n",
    "        vi.write(\"c1:output off\")\n",
    "\n",
    "        #C2 100 #pos A\n",
    "        #print(vi.query(\"*idn?\"))\n",
    "        print(\"Configuring C2\")\n",
    "        vi.write(\"c2:bswv frq,10\") #set the frequency of channel 1\n",
    "        vi.write(\"c2:bswv wvtp,ramp\") #set the type of waveform\n",
    "        vi.write(\"c2:bswv amp, 4\") #set the amplitude\n",
    "        vi.write(\"c2:bswv sym, 100\") #set the amplitude\n",
    "        vi.write(\"c2:bswv duty,75\") #duty cycle\n",
    "        vi.write(\"c2:bswv dlay, 1\") #brust delay for 1 second\n",
    "        vi.write(\"c2:output on\")\n",
    "        time.sleep(t)\n",
    "        vi.write(\"c2:output off\")\n",
    "        \n",
    "        i+=1\n",
    "        \n",
    "    x = -2.36\n",
    "    #-alpha\n",
    "    ta = abs(x/negA_speed)\n",
    "\n",
    "    #C2 0\n",
    "    #print(vi.query(\"*idn?\"))\n",
    "    print(\"Configuring C2\")\n",
    "    vi.write(\"c2:bswv frq,10\") #set the frequency of channel 1\n",
    "    vi.write(\"c2:bswv wvtp,ramp\") #set the type of waveform\n",
    "    vi.write(\"c2:bswv amp, 2\") #set the amplitude\n",
    "    vi.write(\"c2:bswv sym, 0\") #set the amplitude\n",
    "    vi.write(\"c2:bswv duty,75\") #duty cycle\n",
    "    vi.write(\"c2:bswv dlay, 1\") #brust delay for 1 second\n",
    "    vi.write(\"c2:output on\")\n",
    "    time.sleep(ta)\n",
    "    vi.write(\"c2:output off\")"
   ]
  },
  {
   "cell_type": "code",
   "execution_count": 4,
   "id": "91f2afbe",
   "metadata": {
    "scrolled": true
   },
   "outputs": [
    {
     "name": "stdout",
     "output_type": "stream",
     "text": [
      "('USB0::0x2A8D::0x0387::CN61022130::0::INSTR', 'USB0::0xF4ED::0xEE3A::388C14124::0::INSTR', 'ASRL1::INSTR', 'ASRL3::INSTR', 'ASRL4::INSTR', 'ASRL5::INSTR', 'ASRL6::INSTR')\n",
      "Configuring C1\n",
      "Configuring C2\n",
      "Configuring C1\n",
      "Configuring C2\n",
      "Configuring C1\n",
      "Configuring C2\n",
      "Configuring C1\n",
      "Configuring C2\n",
      "Configuring C2\n"
     ]
    }
   ],
   "source": [
    "center()"
   ]
  },
  {
   "cell_type": "code",
   "execution_count": null,
   "id": "4441dacd",
   "metadata": {},
   "outputs": [],
   "source": []
  },
  {
   "cell_type": "code",
   "execution_count": null,
   "id": "ea224f7a",
   "metadata": {},
   "outputs": [],
   "source": []
  }
 ],
 "metadata": {
  "kernelspec": {
   "display_name": "Python 3 (ipykernel)",
   "language": "python",
   "name": "python3"
  },
  "language_info": {
   "codemirror_mode": {
    "name": "ipython",
    "version": 3
   },
   "file_extension": ".py",
   "mimetype": "text/x-python",
   "name": "python",
   "nbconvert_exporter": "python",
   "pygments_lexer": "ipython3",
   "version": "3.9.12"
  }
 },
 "nbformat": 4,
 "nbformat_minor": 5
}

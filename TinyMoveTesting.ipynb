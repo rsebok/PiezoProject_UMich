{
 "cells": [
  {
   "cell_type": "code",
   "execution_count": 5,
   "id": "1d35fc22",
   "metadata": {},
   "outputs": [],
   "source": [
    "import time\n",
    "import random\n",
    "import math\n",
    "import array\n",
    "import pandas as pd\n",
    "import numpy as np\n",
    "import pyvisa as visa\n",
    "import os\n",
    "#from threading import Thread \n",
    "from AutoCircleCopyRS import move_circle\n",
    "from move_by_XY import moveXY\n",
    "from CenterPiezoRS import center_piezo\n",
    "from GrabLocation import grab_location\n",
    "#from BlasterDatacollection import dataB"
   ]
  },
  {
   "cell_type": "code",
   "execution_count": 6,
   "id": "ff8480cc",
   "metadata": {},
   "outputs": [
    {
     "name": "stdout",
     "output_type": "stream",
     "text": [
      "0.46045815586508576\n",
      "2\n"
     ]
    }
   ],
   "source": [
    "x = 0.02\n",
    "posX_speed = 0.8687\n",
    "t = abs(x/posX_speed)\n",
    "voltage = 2\n",
    "freq = x / (posX_speed/20)\n",
    "newt = 2\n",
    "print(freq)\n",
    "print(newt)"
   ]
  },
  {
   "cell_type": "code",
   "execution_count": 7,
   "id": "d47ba905",
   "metadata": {},
   "outputs": [],
   "source": [
    "def tiny_test():\n",
    "    #print('posX',voltage,'Vpp',t,'s')\n",
    "    rm = visa.ResourceManager()\n",
    "    li = rm.list_resources()\n",
    "    print(li)\n",
    "    vi = rm.open_resource('USB0::0xF4ED::0xEE3A::388C14124::0::INSTR')\n",
    "    vi.timeout = 5000\n",
    "\n",
    "    newt = 1\n",
    "    freq = 0.0005\n",
    "\n",
    "    voltage = 2.5\n",
    "\n",
    "    print('negX',voltage,'Vpp',newt,'s')\n",
    "\n",
    "    #print(vi.query(\"*idn?\"))\n",
    "    print(\"Configuring C1\")\n",
    "    vi.write(\"c1:bswv frq, %s\" %freq) #set the frequency of channel 1\n",
    "    time.sleep(0.6)\n",
    "    vi.write(\"c1:bswv wvtp,ramp\") #set the type of waveform\n",
    "    time.sleep(0.6)\n",
    "    vi.write(\"c1:bswv amp, %s\" %voltage) #set the amplitude\n",
    "    time.sleep(0.6)\n",
    "    vi.write(\"c1:bswv sym, 100\") #set the amplitude\n",
    "    time.sleep(0.6)\n",
    "    vi.write(\"c1:bswv duty,25\") #duty cycle\n",
    "    time.sleep(0.6)\n",
    "    vi.write(\"c1:bswv dlay, 1\") #brust delay for 1 second\n",
    "    time.sleep(1)\n",
    "    vi.write(\"c1:output on\")\n",
    "    time.sleep(newt)\n",
    "    vi.write(\"c1:output off\")\n",
    "    time.sleep(1)\n",
    "\n",
    "    print('Pix move done.')"
   ]
  },
  {
   "cell_type": "code",
   "execution_count": 11,
   "id": "438bec54",
   "metadata": {
    "scrolled": false
   },
   "outputs": [
    {
     "name": "stdout",
     "output_type": "stream",
     "text": [
      "('USB0::0x2A8D::0x0387::CN61022130::0::INSTR', 'USB0::0xF4ED::0xEE3A::388C14124::0::INSTR', 'TCPIP0::141.211.99.21::inst0::INSTR', 'ASRL1::INSTR', 'ASRL3::INSTR', 'ASRL4::INSTR', 'ASRL5::INSTR', 'ASRL6::INSTR', 'ASRL9::INSTR')\n",
      "negX 2.5 Vpp 1 s\n",
      "Configuring C1\n",
      "Pix move done.\n",
      "-14.595625\n"
     ]
    }
   ],
   "source": [
    "for i in range(0,1):\n",
    "    #x0,y0 = grab_location('junk')\n",
    "    tiny_test()\n",
    "    #x,y = grab_location('junk')\n",
    "    \n",
    "    print(x - x0)"
   ]
  },
  {
   "cell_type": "code",
   "execution_count": null,
   "id": "1c623b98",
   "metadata": {},
   "outputs": [],
   "source": []
  },
  {
   "cell_type": "code",
   "execution_count": null,
   "id": "1d3b2dab",
   "metadata": {},
   "outputs": [],
   "source": []
  },
  {
   "cell_type": "code",
   "execution_count": null,
   "id": "e10e9617",
   "metadata": {},
   "outputs": [],
   "source": []
  }
 ],
 "metadata": {
  "kernelspec": {
   "display_name": "Python 3 (ipykernel)",
   "language": "python",
   "name": "python3"
  },
  "language_info": {
   "codemirror_mode": {
    "name": "ipython",
    "version": 3
   },
   "file_extension": ".py",
   "mimetype": "text/x-python",
   "name": "python",
   "nbconvert_exporter": "python",
   "pygments_lexer": "ipython3",
   "version": "3.9.12"
  }
 },
 "nbformat": 4,
 "nbformat_minor": 5
}

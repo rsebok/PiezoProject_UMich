{
 "cells": [
  {
   "cell_type": "code",
   "execution_count": 3,
   "id": "1d35fc22",
   "metadata": {},
   "outputs": [
    {
     "data": {
      "text/html": [
       "<div id=\"glowscript\" class=\"glowscript\"></div>"
      ],
      "text/plain": [
       "<IPython.core.display.HTML object>"
      ]
     },
     "metadata": {},
     "output_type": "display_data"
    },
    {
     "data": {
      "application/javascript": [
       "if (typeof Jupyter !== \"undefined\") { window.__context = { glowscript_container: $(\"#glowscript\").removeAttr(\"id\")};}else{ element.textContent = ' ';}"
      ],
      "text/plain": [
       "<IPython.core.display.Javascript object>"
      ]
     },
     "metadata": {},
     "output_type": "display_data"
    }
   ],
   "source": [
    "import time\n",
    "import random\n",
    "import math\n",
    "import array\n",
    "import pandas as pd\n",
    "import numpy as np\n",
    "import pyvisa as visa\n",
    "import os\n",
    "#from threading import Thread \n",
    "from AutoCircleCopyRS import move_circle\n",
    "from move_by_XY import moveXY\n",
    "from GrabLocation import grab_location\n",
    "#from BlasterDatacollection import dataB"
   ]
  },
  {
   "cell_type": "code",
   "execution_count": 15,
   "id": "992231d6",
   "metadata": {},
   "outputs": [
    {
     "name": "stdout",
     "output_type": "stream",
     "text": [
      "Configuring C1\n",
      "Micro move done.\n"
     ]
    }
   ],
   "source": [
    "    rm=visa.ResourceManager()\n",
    "    li=rm.list_resources()\n",
    "    vi=rm.open_resource('USB0::0xF4ED::0xEE3A::388C14124::0::INSTR')\n",
    "\n",
    "    #print('posX,',voltage,'Vpp,',freq,\"Hz,\",newt,'s')\n",
    "\n",
    "    print(\"Configuring C1\")\n",
    "    vi.write(\"c1:bswv frq, %s\" %5) #set the frequency of channel 1\n",
    "    time.sleep(0.6)\n",
    "    vi.write(\"c1:bswv wvtp,ramp\") #set the type of waveform\n",
    "    time.sleep(0.6)\n",
    "    vi.write(\"c1:bswv amp, %s\" %1) #set the amplitude\n",
    "    time.sleep(0.6)\n",
    "    vi.write(\"c1:bswv sym, 100\") #set the symmetry\n",
    "    time.sleep(0.6)\n",
    "    vi.write(\"c1:bswv duty,75\") #duty cycle\n",
    "    time.sleep(0.6)\n",
    "    vi.write(\"c1:bswv dlay, 1\") #brust delay for 1 second\n",
    "    time.sleep(1)\n",
    "    vi.write(\"c1:output on\")\n",
    "    time.sleep(10)    \n",
    "    vi.write(\"c1:output off\")\n",
    "    time.sleep(1)\n",
    "\n",
    "    print('Micro move done.')"
   ]
  },
  {
   "cell_type": "code",
   "execution_count": 485,
   "id": "8b3e3f05",
   "metadata": {},
   "outputs": [
    {
     "name": "stdout",
     "output_type": "stream",
     "text": [
      "Configuring C2\n",
      "Micro move done.\n"
     ]
    }
   ],
   "source": [
    "    rm=visa.ResourceManager()\n",
    "    li=rm.list_resources()\n",
    "    vi=rm.open_resource('USB0::0xF4ED::0xEE3A::388C14124::0::INSTR')\n",
    "\n",
    "    #print('posX,',voltage,'Vpp,',freq,\"Hz,\",newt,'s')\n",
    "\n",
    "    print(\"Configuring C2\")\n",
    "    vi.write(\"c2:bswv frq, %s\" %5) #set the frequency of channel 1\n",
    "    time.sleep(0.6)\n",
    "    vi.write(\"c2:bswv wvtp,ramp\") #set the type of waveform\n",
    "    time.sleep(0.6)\n",
    "    vi.write(\"c2:bswv amp, %s\" %1.5) #set the amplitude\n",
    "    time.sleep(0.6)\n",
    "    vi.write(\"c2:bswv sym, 100\") #set the symmetry\n",
    "    time.sleep(0.6)\n",
    "    vi.write(\"c2:bswv duty,75\") #duty cycle\n",
    "    time.sleep(0.6)\n",
    "    vi.write(\"c2:bswv dlay, 1\") #brust delay for 1 second\n",
    "    time.sleep(1)\n",
    "    vi.write(\"c2:output on\")\n",
    "    time.sleep(0.5)    \n",
    "    vi.write(\"c2:output off\")\n",
    "    time.sleep(1)\n",
    "\n",
    "    print('Micro move done.')"
   ]
  },
  {
   "cell_type": "code",
   "execution_count": 484,
   "id": "ff8480cc",
   "metadata": {},
   "outputs": [
    {
     "name": "stdout",
     "output_type": "stream",
     "text": [
      "0.46045815586508576\n",
      "2\n"
     ]
    }
   ],
   "source": [
    "x = 0.02\n",
    "posX_speed = 0.8687\n",
    "t = abs(x/posX_speed)\n",
    "voltage = 2\n",
    "freq = x / (posX_speed/20)\n",
    "newt = 2\n",
    "print(freq)\n",
    "print(newt)"
   ]
  },
  {
   "cell_type": "code",
   "execution_count": 45,
   "id": "d47ba905",
   "metadata": {},
   "outputs": [],
   "source": [
    "def tiny_test():\n",
    "    rm=visa.ResourceManager()\n",
    "    li=rm.list_resources()\n",
    "    vi=rm.open_resource('USB0::0xF4ED::0xEE3A::388C14124::0::INSTR')\n",
    "    vi.write(\"c1:bswv frq, %s\" %5) #set the frequency of channel 1\n",
    "    time.sleep(0.6)\n",
    "    vi.write(\"c1:bswv wvtp,ramp\") #set the type of waveform\n",
    "    time.sleep(0.6)\n",
    "    vi.write(\"c1:bswv amp, %s\" %2) #set the amplitude\n",
    "    time.sleep(0.6)\n",
    "    vi.write(\"c1:bswv sym, 100\") #set the symmetry, 100 is neg\n",
    "    time.sleep(0.6)\n",
    "    vi.write(\"c1:bswv duty,75\") #duty cycle\n",
    "    time.sleep(0.6)\n",
    "    vi.write(\"c1:bswv dlay, 1\") #brust delay for 1 second\n",
    "    time.sleep(1)\n",
    "    vi.write(\"c1:output on\")\n",
    "    time.sleep(0.5)    \n",
    "    vi.write(\"c1:output off\")\n",
    "    time.sleep(1)"
   ]
  },
  {
   "cell_type": "code",
   "execution_count": 46,
   "id": "5357d1ab",
   "metadata": {
    "scrolled": true
   },
   "outputs": [
    {
     "data": {
      "text/html": [
       "<div id=\"glowscript\" class=\"glowscript\"></div>"
      ],
      "text/plain": [
       "<IPython.core.display.HTML object>"
      ]
     },
     "metadata": {},
     "output_type": "display_data"
    },
    {
     "data": {
      "application/javascript": [
       "if (typeof Jupyter !== \"undefined\") { window.__context = { glowscript_container: $(\"#glowscript\").removeAttr(\"id\")};}else{ element.textContent = ' ';}"
      ],
      "text/plain": [
       "<IPython.core.display.Javascript object>"
      ]
     },
     "metadata": {},
     "output_type": "display_data"
    },
    {
     "data": {
      "text/html": [
       "<div id=\"glowscript\" class=\"glowscript\"></div>"
      ],
      "text/plain": [
       "<IPython.core.display.HTML object>"
      ]
     },
     "metadata": {},
     "output_type": "display_data"
    },
    {
     "data": {
      "application/javascript": [
       "if (typeof Jupyter !== \"undefined\") { window.__context = { glowscript_container: $(\"#glowscript\").removeAttr(\"id\")};}else{ element.textContent = ' ';}"
      ],
      "text/plain": [
       "<IPython.core.display.Javascript object>"
      ]
     },
     "metadata": {},
     "output_type": "display_data"
    },
    {
     "name": "stdout",
     "output_type": "stream",
     "text": [
      "-208.6509017944354\n"
     ]
    },
    {
     "data": {
      "text/html": [
       "<div id=\"glowscript\" class=\"glowscript\"></div>"
      ],
      "text/plain": [
       "<IPython.core.display.HTML object>"
      ]
     },
     "metadata": {},
     "output_type": "display_data"
    },
    {
     "data": {
      "application/javascript": [
       "if (typeof Jupyter !== \"undefined\") { window.__context = { glowscript_container: $(\"#glowscript\").removeAttr(\"id\")};}else{ element.textContent = ' ';}"
      ],
      "text/plain": [
       "<IPython.core.display.Javascript object>"
      ]
     },
     "metadata": {},
     "output_type": "display_data"
    },
    {
     "data": {
      "text/html": [
       "<div id=\"glowscript\" class=\"glowscript\"></div>"
      ],
      "text/plain": [
       "<IPython.core.display.HTML object>"
      ]
     },
     "metadata": {},
     "output_type": "display_data"
    },
    {
     "data": {
      "application/javascript": [
       "if (typeof Jupyter !== \"undefined\") { window.__context = { glowscript_container: $(\"#glowscript\").removeAttr(\"id\")};}else{ element.textContent = ' ';}"
      ],
      "text/plain": [
       "<IPython.core.display.Javascript object>"
      ]
     },
     "metadata": {},
     "output_type": "display_data"
    },
    {
     "name": "stdout",
     "output_type": "stream",
     "text": [
      "-208.82249450683412\n"
     ]
    },
    {
     "data": {
      "text/html": [
       "<div id=\"glowscript\" class=\"glowscript\"></div>"
      ],
      "text/plain": [
       "<IPython.core.display.HTML object>"
      ]
     },
     "metadata": {},
     "output_type": "display_data"
    },
    {
     "data": {
      "application/javascript": [
       "if (typeof Jupyter !== \"undefined\") { window.__context = { glowscript_container: $(\"#glowscript\").removeAttr(\"id\")};}else{ element.textContent = ' ';}"
      ],
      "text/plain": [
       "<IPython.core.display.Javascript object>"
      ]
     },
     "metadata": {},
     "output_type": "display_data"
    },
    {
     "data": {
      "text/html": [
       "<div id=\"glowscript\" class=\"glowscript\"></div>"
      ],
      "text/plain": [
       "<IPython.core.display.HTML object>"
      ]
     },
     "metadata": {},
     "output_type": "display_data"
    },
    {
     "data": {
      "application/javascript": [
       "if (typeof Jupyter !== \"undefined\") { window.__context = { glowscript_container: $(\"#glowscript\").removeAttr(\"id\")};}else{ element.textContent = ' ';}"
      ],
      "text/plain": [
       "<IPython.core.display.Javascript object>"
      ]
     },
     "metadata": {},
     "output_type": "display_data"
    },
    {
     "name": "stdout",
     "output_type": "stream",
     "text": [
      "-206.7447052001953\n"
     ]
    }
   ],
   "source": [
    "for i in range(0,3):\n",
    "    x0,y0 = grab_location('junk')\n",
    "    tiny_test()\n",
    "    x,y = grab_location('junk') \n",
    "    print(x*1000 - x0*1000)\n",
    "    #print(y*1000 - y0*1000)"
   ]
  },
  {
   "cell_type": "code",
   "execution_count": 57,
   "id": "5f1c97bb",
   "metadata": {},
   "outputs": [],
   "source": [
    "def tiny_test():\n",
    "    rm=visa.ResourceManager()\n",
    "    li=rm.list_resources()\n",
    "    vi=rm.open_resource('USB0::0xF4ED::0xEE3A::388C14124::0::INSTR')\n",
    "    vi.write(\"c2:bswv frq, %s\" %5) #set the frequency of channel 1\n",
    "    time.sleep(0.6)\n",
    "    vi.write(\"c2:bswv wvtp,ramp\") #set the type of waveform\n",
    "    time.sleep(0.6)\n",
    "    vi.write(\"c2:bswv amp, %s\" %2) #set the amplitude\n",
    "    time.sleep(0.6)\n",
    "    vi.write(\"c2:bswv sym, 0\") #set the symmetry, 100 is pos\n",
    "    time.sleep(0.6)\n",
    "    vi.write(\"c2:bswv duty,75\") #duty cycle\n",
    "    time.sleep(0.6)\n",
    "    vi.write(\"c2:bswv dlay, 1\") #brust delay for 1 second\n",
    "    time.sleep(1)\n",
    "    vi.write(\"c2:output on\")\n",
    "    time.sleep(0.5)    \n",
    "    vi.write(\"c2:output off\")\n",
    "    time.sleep(1)"
   ]
  },
  {
   "cell_type": "code",
   "execution_count": 58,
   "id": "438bec54",
   "metadata": {
    "scrolled": false
   },
   "outputs": [
    {
     "data": {
      "text/html": [
       "<div id=\"glowscript\" class=\"glowscript\"></div>"
      ],
      "text/plain": [
       "<IPython.core.display.HTML object>"
      ]
     },
     "metadata": {},
     "output_type": "display_data"
    },
    {
     "data": {
      "application/javascript": [
       "if (typeof Jupyter !== \"undefined\") { window.__context = { glowscript_container: $(\"#glowscript\").removeAttr(\"id\")};}else{ element.textContent = ' ';}"
      ],
      "text/plain": [
       "<IPython.core.display.Javascript object>"
      ]
     },
     "metadata": {},
     "output_type": "display_data"
    },
    {
     "data": {
      "text/html": [
       "<div id=\"glowscript\" class=\"glowscript\"></div>"
      ],
      "text/plain": [
       "<IPython.core.display.HTML object>"
      ]
     },
     "metadata": {},
     "output_type": "display_data"
    },
    {
     "data": {
      "application/javascript": [
       "if (typeof Jupyter !== \"undefined\") { window.__context = { glowscript_container: $(\"#glowscript\").removeAttr(\"id\")};}else{ element.textContent = ' ';}"
      ],
      "text/plain": [
       "<IPython.core.display.Javascript object>"
      ]
     },
     "metadata": {},
     "output_type": "display_data"
    },
    {
     "name": "stdout",
     "output_type": "stream",
     "text": [
      "-188.39128875732422\n"
     ]
    },
    {
     "data": {
      "text/html": [
       "<div id=\"glowscript\" class=\"glowscript\"></div>"
      ],
      "text/plain": [
       "<IPython.core.display.HTML object>"
      ]
     },
     "metadata": {},
     "output_type": "display_data"
    },
    {
     "data": {
      "application/javascript": [
       "if (typeof Jupyter !== \"undefined\") { window.__context = { glowscript_container: $(\"#glowscript\").removeAttr(\"id\")};}else{ element.textContent = ' ';}"
      ],
      "text/plain": [
       "<IPython.core.display.Javascript object>"
      ]
     },
     "metadata": {},
     "output_type": "display_data"
    },
    {
     "data": {
      "text/html": [
       "<div id=\"glowscript\" class=\"glowscript\"></div>"
      ],
      "text/plain": [
       "<IPython.core.display.HTML object>"
      ]
     },
     "metadata": {},
     "output_type": "display_data"
    },
    {
     "data": {
      "application/javascript": [
       "if (typeof Jupyter !== \"undefined\") { window.__context = { glowscript_container: $(\"#glowscript\").removeAttr(\"id\")};}else{ element.textContent = ' ';}"
      ],
      "text/plain": [
       "<IPython.core.display.Javascript object>"
      ]
     },
     "metadata": {},
     "output_type": "display_data"
    },
    {
     "name": "stdout",
     "output_type": "stream",
     "text": [
      "-183.80030822753906\n"
     ]
    },
    {
     "data": {
      "text/html": [
       "<div id=\"glowscript\" class=\"glowscript\"></div>"
      ],
      "text/plain": [
       "<IPython.core.display.HTML object>"
      ]
     },
     "metadata": {},
     "output_type": "display_data"
    },
    {
     "data": {
      "application/javascript": [
       "if (typeof Jupyter !== \"undefined\") { window.__context = { glowscript_container: $(\"#glowscript\").removeAttr(\"id\")};}else{ element.textContent = ' ';}"
      ],
      "text/plain": [
       "<IPython.core.display.Javascript object>"
      ]
     },
     "metadata": {},
     "output_type": "display_data"
    },
    {
     "data": {
      "text/html": [
       "<div id=\"glowscript\" class=\"glowscript\"></div>"
      ],
      "text/plain": [
       "<IPython.core.display.HTML object>"
      ]
     },
     "metadata": {},
     "output_type": "display_data"
    },
    {
     "data": {
      "application/javascript": [
       "if (typeof Jupyter !== \"undefined\") { window.__context = { glowscript_container: $(\"#glowscript\").removeAttr(\"id\")};}else{ element.textContent = ' ';}"
      ],
      "text/plain": [
       "<IPython.core.display.Javascript object>"
      ]
     },
     "metadata": {},
     "output_type": "display_data"
    },
    {
     "name": "stdout",
     "output_type": "stream",
     "text": [
      "-189.02221298217773\n"
     ]
    }
   ],
   "source": [
    "for i in range(0,3):\n",
    "    x0,y0 = grab_location('junk')\n",
    "    tiny_test()\n",
    "    x,y = grab_location('junk') \n",
    "    print(y*1000 - y0*1000)\n",
    "    #print(x*1000 - x0*1000)"
   ]
  },
  {
   "cell_type": "code",
   "execution_count": null,
   "id": "1c623b98",
   "metadata": {},
   "outputs": [],
   "source": []
  },
  {
   "cell_type": "code",
   "execution_count": null,
   "id": "1d3b2dab",
   "metadata": {},
   "outputs": [],
   "source": []
  },
  {
   "cell_type": "code",
   "execution_count": null,
   "id": "e10e9617",
   "metadata": {},
   "outputs": [],
   "source": []
  }
 ],
 "metadata": {
  "kernelspec": {
   "display_name": "Python 3 (ipykernel)",
   "language": "python",
   "name": "python3"
  },
  "language_info": {
   "codemirror_mode": {
    "name": "ipython",
    "version": 3
   },
   "file_extension": ".py",
   "mimetype": "text/x-python",
   "name": "python",
   "nbconvert_exporter": "python",
   "pygments_lexer": "ipython3",
   "version": "3.9.12"
  }
 },
 "nbformat": 4,
 "nbformat_minor": 5
}

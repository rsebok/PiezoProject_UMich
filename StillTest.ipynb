{
 "cells": [
  {
   "cell_type": "code",
   "execution_count": 1,
   "id": "fe7480ec",
   "metadata": {},
   "outputs": [
    {
     "data": {
      "text/html": [
       "<div id=\"glowscript\" class=\"glowscript\"></div>"
      ],
      "text/plain": [
       "<IPython.core.display.HTML object>"
      ]
     },
     "metadata": {},
     "output_type": "display_data"
    },
    {
     "data": {
      "application/javascript": [
       "if (typeof Jupyter !== \"undefined\") { window.__context = { glowscript_container: $(\"#glowscript\").removeAttr(\"id\")};}else{ element.textContent = ' ';}"
      ],
      "text/plain": [
       "<IPython.core.display.Javascript object>"
      ]
     },
     "metadata": {},
     "output_type": "display_data"
    }
   ],
   "source": [
    "from vpython import * \n",
    "from pypylon import pylon\n",
    "import cv2 as cv\n",
    "import numpy as np\n",
    "import matplotlib.pyplot as plt\n",
    "import matplotlib.animation as animation\n",
    "from matplotlib import style\n",
    "from matplotlib.ticker import FormatStrFormatter\n",
    "import time\n",
    "from openpyxl import Workbook\n",
    "import xlwt\n",
    "from datetime import datetime\n",
    "import random\n",
    "from itertools import count\n",
    "from IPython.display import display, clear_output\n",
    "from matplotlib.animation import FuncAnimation\n",
    "from drawnow import drawnow\n",
    "from bokeh.plotting import curdoc, figure\n",
    "import plotly.express as px\n",
    "import plotly.graph_objs as go\n",
    "import pandas as pd\n",
    "import numpy.ma as ma\n",
    "import math\n",
    "import time\n",
    "import circle_fit as cf\n",
    "import matplotlib.colors as mcolors\n",
    "%matplotlib inline "
   ]
  },
  {
   "cell_type": "code",
   "execution_count": 2,
   "id": "2742d84c",
   "metadata": {},
   "outputs": [
    {
     "data": {
      "text/html": [
       "<div id=\"glowscript\" class=\"glowscript\"></div>"
      ],
      "text/plain": [
       "<IPython.core.display.HTML object>"
      ]
     },
     "metadata": {},
     "output_type": "display_data"
    },
    {
     "data": {
      "application/javascript": [
       "if (typeof Jupyter !== \"undefined\") { window.__context = { glowscript_container: $(\"#glowscript\").removeAttr(\"id\")};}else{ element.textContent = ' ';}"
      ],
      "text/plain": [
       "<IPython.core.display.Javascript object>"
      ]
     },
     "metadata": {},
     "output_type": "display_data"
    },
    {
     "ename": "SystemError",
     "evalue": "<built-in function InstantCamera_RetrieveResult> returned a result with an error set",
     "output_type": "error",
     "traceback": [
      "\u001b[1;31m---------------------------------------------------------------------------\u001b[0m",
      "\u001b[1;31mKeyboardInterrupt\u001b[0m                         Traceback (most recent call last)",
      "File \u001b[1;32mD:\\juypter\\lib\\site-packages\\pypylon\\pylon.py:2165\u001b[0m, in \u001b[0;36mGrabResult.__setattr__\u001b[1;34m(self, attribute, val)\u001b[0m\n\u001b[0;32m   2163\u001b[0m     \u001b[38;5;28;01mraise\u001b[39;00m \u001b[38;5;167;01mAttributeError\u001b[39;00m(\u001b[38;5;124m\"\u001b[39m\u001b[38;5;124mno attribute \u001b[39m\u001b[38;5;124m'\u001b[39m\u001b[38;5;132;01m%s\u001b[39;00m\u001b[38;5;124m'\u001b[39m\u001b[38;5;124m in GrabResult\u001b[39m\u001b[38;5;124m\"\u001b[39m \u001b[38;5;241m%\u001b[39m attribute)\n\u001b[1;32m-> 2165\u001b[0m \u001b[38;5;28;01mdef\u001b[39;00m \u001b[38;5;21m__setattr__\u001b[39m(\u001b[38;5;28mself\u001b[39m, attribute, val):\n\u001b[0;32m   2166\u001b[0m \u001b[38;5;66;03m# Check \"normal\" attributes first\u001b[39;00m\n\u001b[0;32m   2167\u001b[0m     \u001b[38;5;28;01mif\u001b[39;00m attribute \u001b[38;5;129;01min\u001b[39;00m \u001b[38;5;28mself\u001b[39m\u001b[38;5;241m.\u001b[39m\u001b[38;5;18m__dict__\u001b[39m \u001b[38;5;129;01mor\u001b[39;00m attribute \u001b[38;5;129;01min\u001b[39;00m (\u001b[38;5;124m\"\u001b[39m\u001b[38;5;124mthisown\u001b[39m\u001b[38;5;124m\"\u001b[39m, \u001b[38;5;124m\"\u001b[39m\u001b[38;5;124mthis\u001b[39m\u001b[38;5;124m\"\u001b[39m) \u001b[38;5;129;01mor\u001b[39;00m attribute\u001b[38;5;241m.\u001b[39mstartswith(\u001b[38;5;124m\"\u001b[39m\u001b[38;5;124m__\u001b[39m\u001b[38;5;124m\"\u001b[39m):\n",
      "\u001b[1;31mKeyboardInterrupt\u001b[0m: ",
      "\nThe above exception was the direct cause of the following exception:\n",
      "\u001b[1;31mSystemError\u001b[0m                               Traceback (most recent call last)",
      "Input \u001b[1;32mIn [2]\u001b[0m, in \u001b[0;36m<cell line: 38>\u001b[1;34m()\u001b[0m\n\u001b[0;32m     37\u001b[0m \u001b[38;5;66;03m#Camera grabbing while loop and set count time \u001b[39;00m\n\u001b[0;32m     38\u001b[0m \u001b[38;5;28;01mwhile\u001b[39;00m camera\u001b[38;5;241m.\u001b[39mIsGrabbing() \u001b[38;5;129;01mand\u001b[39;00m t \u001b[38;5;241m<\u001b[39m tmax:\n\u001b[1;32m---> 39\u001b[0m     grabResult \u001b[38;5;241m=\u001b[39m \u001b[43mcamera\u001b[49m\u001b[38;5;241;43m.\u001b[39;49m\u001b[43mRetrieveResult\u001b[49m\u001b[43m(\u001b[49m\u001b[38;5;241;43m5000\u001b[39;49m\u001b[43m,\u001b[49m\u001b[43m \u001b[49m\u001b[43mpylon\u001b[49m\u001b[38;5;241;43m.\u001b[39;49m\u001b[43mTimeoutHandling_ThrowException\u001b[49m\u001b[43m)\u001b[49m\n\u001b[0;32m     40\u001b[0m     \u001b[38;5;28;01mif\u001b[39;00m grabResult\u001b[38;5;241m.\u001b[39mGrabSucceeded():\n\u001b[0;32m     41\u001b[0m         \u001b[38;5;66;03m# Access the image data\u001b[39;00m\n\u001b[0;32m     42\u001b[0m         image \u001b[38;5;241m=\u001b[39m converter\u001b[38;5;241m.\u001b[39mConvert(grabResult)\n",
      "File \u001b[1;32mD:\\juypter\\lib\\site-packages\\pypylon\\pylon.py:3495\u001b[0m, in \u001b[0;36mInstantCamera.RetrieveResult\u001b[1;34m(self, *args)\u001b[0m\n\u001b[0;32m   3430\u001b[0m \u001b[38;5;28;01mdef\u001b[39;00m \u001b[38;5;21mRetrieveResult\u001b[39m(\u001b[38;5;28mself\u001b[39m, \u001b[38;5;241m*\u001b[39margs) \u001b[38;5;241m-\u001b[39m\u001b[38;5;241m>\u001b[39m \u001b[38;5;124m\"\u001b[39m\u001b[38;5;124mbool\u001b[39m\u001b[38;5;124m\"\u001b[39m:\n\u001b[0;32m   3431\u001b[0m     \u001b[38;5;124mr\u001b[39m\u001b[38;5;124;03m\"\"\"\u001b[39;00m\n\u001b[0;32m   3432\u001b[0m \n\u001b[0;32m   3433\u001b[0m \n\u001b[1;32m   (...)\u001b[0m\n\u001b[0;32m   3493\u001b[0m \n\u001b[0;32m   3494\u001b[0m \u001b[38;5;124;03m    \"\"\"\u001b[39;00m\n\u001b[1;32m-> 3495\u001b[0m     \u001b[38;5;28;01mreturn\u001b[39;00m \u001b[43m_pylon\u001b[49m\u001b[38;5;241;43m.\u001b[39;49m\u001b[43mInstantCamera_RetrieveResult\u001b[49m\u001b[43m(\u001b[49m\u001b[38;5;28;43mself\u001b[39;49m\u001b[43m,\u001b[49m\u001b[43m \u001b[49m\u001b[38;5;241;43m*\u001b[39;49m\u001b[43margs\u001b[49m\u001b[43m)\u001b[49m\n",
      "\u001b[1;31mSystemError\u001b[0m: <built-in function InstantCamera_RetrieveResult> returned a result with an error set"
     ]
    },
    {
     "data": {
      "image/png": "[encoded data removed]",
      "text/plain": [
       "<Figure size 432x288 with 1 Axes>"
      ]
     },
     "metadata": {
      "needs_background": "light"
     },
     "output_type": "display_data"
    }
   ],
   "source": [
    "# conecting to the first available camera\n",
    "camera = pylon.InstantCamera(pylon.TlFactory.GetInstance().CreateFirstDevice())\n",
    "\n",
    "# Grabing Continusely (video) with minimal delay\n",
    "camera.StartGrabbing(pylon.GrabStrategy_LatestImageOnly) \n",
    "converter = pylon.ImageFormatConverter()\n",
    "\n",
    "# converting to opencv bgr format\n",
    "converter.OutputPixelFormat = pylon.PixelType_BGR8packed\n",
    "converter.OutputBitAlignment = pylon.OutputBitAlignment_MsbAligned\n",
    "\n",
    "# def for circle shape detection\n",
    "prevCircle = None\n",
    "dist = lambda x1,y1,x2,y2: (x1-x2)**2+(y1-y2)**2\n",
    "x = np.empty(1)\n",
    "y = np.empty(1)\n",
    "#livegraph\n",
    "fig = plt.figure()\n",
    "ax = fig.add_subplot(111)\n",
    "circle = plt.Circle( (10.25/0.01375, 9.06/0.01375 ), 2.6/0.01375 , fill = False )\n",
    "ax.add_artist( circle )\n",
    "#fig, (ax1, ax2) = plt.subplots(2)\n",
    "ax.set_xlim(1300)\n",
    "ax.set_ylim(1000)\n",
    "#def for background change to black and white\n",
    "object_detector = cv.createBackgroundSubtractorMOG2(history=100, varThreshold=70)\n",
    "\n",
    "#def for set time counter \n",
    "t = 0\n",
    "tmax = 600\n",
    "dt = 1\n",
    "#display \n",
    "scene1 = canvas()\n",
    "#display(fig)\n",
    "#measure the time\n",
    "st = time.time()\n",
    "#Camera grabbing while loop and set count time \n",
    "while camera.IsGrabbing() and t < tmax:\n",
    "    grabResult = camera.RetrieveResult(5000, pylon.TimeoutHandling_ThrowException)\n",
    "    if grabResult.GrabSucceeded():\n",
    "        # Access the image data\n",
    "        image = converter.Convert(grabResult)\n",
    "        img = image.GetArray()\n",
    "    if not grabResult.GrabSucceeded: break\n",
    "    \n",
    "#Frame color control \n",
    "    GrayFrame = cv.cvtColor(img, cv.COLOR_BGR2GRAY)\n",
    "    blurFrame = cv.GaussianBlur(GrayFrame, (17,17),0)\n",
    "    thresh = cv.threshold(blurFrame, 35, 255, cv.THRESH_BINARY)[1]\n",
    "    \n",
    "    #imc = cv.medianBlur(imc, 5)\n",
    "    \n",
    "    #cv.rectangle(imc, (100, 100), (300, 300), (255, 0, 0), 2)\n",
    "    #roi = imc[100:300, 100:300]\n",
    "    #roi_gray = cv.cvtColor(roi, cv.COLOR_BGR2GRAY)\n",
    "    #mask = np.zeros(thresh.shape, dtype='unit8')\n",
    "    #cv.circle(mask, (150, 150), 100, 255, -1)\n",
    "\n",
    "    #roi = blurFrame[340: 600, 500: 700]\n",
    "    #mask = object_detector.apply(blurFrame)\n",
    "    #mask1 = cv.threshold(roi, 254, 255, cv.THRESH_BINARY)\n",
    "    \n",
    "    #detect things without dark room used to use imc\n",
    "    circles = cv.HoughCircles(thresh, cv.HOUGH_GRADIENT, 1, 5000, param1=250, param2=13, minRadius=75, maxRadius=125)\n",
    "    if circles is not None:\n",
    "        for i in circles[0, :]:\n",
    "            x = np.append(x , i[0])\n",
    "            y = np.append(y , i[1])\n",
    "            center = np.uint16(np.around((i[0], i[1])))\n",
    "            # circle center\n",
    "            cv.circle(img, center, 1, (0, 100, 100), 3)\n",
    "            # circle outline\n",
    "            radius = np.uint16(np.around(i[2]))\n",
    "            cv.circle(img, center, radius, (0, 255, 0), 3)\n",
    "            \n",
    "            #graph section\n",
    "            sct = ax.scatter(x*0.2645833333, y*0.2645833333, marker='x') \n",
    "            sct.set_offsets(np.c_[x,y])\n",
    "            plt.title(\"Real Time plot\")\n",
    "            plt.xlabel(\"x\")\n",
    "            plt.ylabel(\"y\")\n",
    "            \n",
    "            clear_output(wait=True)\n",
    "            \n",
    "\n",
    "            #data\n",
    "            xs = x[1:]\n",
    "            ys = y[1:]\n",
    "            max_value_x = np.max(xs)\n",
    "            max_value_y = np.max(ys)\n",
    "          \n",
    "\n",
    "            min_value_x = np.min(xs)\n",
    "            min_value_y = np.min(ys)\n",
    "            \n",
    "            R_x = (max_value_x-min_value_x)/2\n",
    "            R_y = (max_value_y-min_value_y)/2\n",
    "            Area_E = R_x*R_y*3.14\n",
    "            \n",
    "            scene2 = canvas()\n",
    "            data = {\n",
    "                'original_pos_xy':[(x[1]*0.01375, y[1]*0.01375)],\n",
    "                'Final_pos_xy': [(x[-1:]*0.01375, y[-1:]*0.01375)],\n",
    "                'max_xy': [(max_value_x*0.01375,max_value_y*0.01375)],\n",
    "                'min_xy': [(min_value_x*0.01375,min_value_y*0.01375)],\n",
    "                'Radius_x':[R_x*0.01375],\n",
    "                'Radius_y':[R_y*0.01375],\n",
    "                'Area':[(Area_E*0.01375)],\n",
    "                #'center point':[()]\n",
    "                #'point's none zero: [(np.count_nonzero(x[0])*0.2645833333, np.count_nonzero(y[0])*0.2645833333)],\n",
    "            }\n",
    "    \n",
    "# create dataframe from data\n",
    "            df1 = pd.DataFrame(data)\n",
    "# display the dataframe\n",
    "            display(df1,fig)\n",
    "#out put section for output the coordinate and video\n",
    "    cv.imshow(\"live video\", img)\n",
    "    #cv.imshow('video testing', img)\n",
    "    #cv.imshow('video',  roi_mask)\n",
    "    cv.imshow(\"detection\", thresh)\n",
    "#picture detacting watiing section\n",
    "    key = cv.waitKey(30) \n",
    "    if key == 27 : break\n",
    "    #count time \n",
    "    t = t + dt\n",
    "\n",
    "#print value in a different box    \n",
    "  \n",
    "#camera control         \n",
    "camera.StopGrabbing()\n",
    "cv.destroyAllWindows()\n",
    "            "
   ]
  },
  {
   "cell_type": "code",
   "execution_count": null,
   "id": "2f2185e4",
   "metadata": {
    "scrolled": false
   },
   "outputs": [],
   "source": [
    "et = time.time()\n",
    "elapsed_time = et - st\n",
    "print ('CPU execution time code', time.process_time(), 'seconds')\n",
    "print('Execution time:', elapsed_time, 'seconds')"
   ]
  },
  {
   "cell_type": "code",
   "execution_count": null,
   "id": "4194e4ee",
   "metadata": {
    "scrolled": true
   },
   "outputs": [],
   "source": [
    "x1 = x*0.01375\n",
    "xd = np.delete(x1, 0)\n",
    "print('x', xd)\n",
    "y2 = y*0.01375\n",
    "yd = np.delete(y2, 0)\n",
    "print('y',yd)\n",
    "ti = 1\n",
    "displacement = (x1,y2)"
   ]
  },
  {
   "cell_type": "code",
   "execution_count": null,
   "id": "eeeed4b2",
   "metadata": {},
   "outputs": [],
   "source": [
    "dis = 0 \n",
    "sp = np.array([1,2,3,4])\n",
    "xa = np.array([xd[0], xd[1], xd[-2], xd[-1]])\n",
    "ya = np.array([yd[0], yd[1], yd[-2], yd[-1]])\n",
    "for i in range(len(xa)-2):\n",
    "    dis += sqrt((xa[i+1] - xa[i])**2 + (ya[i+1]-ya[i])**2)\n",
    "    \n",
    "print('dis', dis)\n",
    "print('d/t', dis/ti)"
   ]
  },
  {
   "cell_type": "code",
   "execution_count": null,
   "id": "5da05f68",
   "metadata": {
    "scrolled": true
   },
   "outputs": [],
   "source": [
    "#angle to xaxis\n",
    "thetax = 180*np.arcsin(abs(yd[-1]-yd[0])/dis)/np.pi\n",
    "print(thetax)\n",
    "\n",
    "#angle to yaxis\n",
    "thetay = 180*np.arcsin(abs(xd[-1]-xd[0])/dis)/np.pi\n",
    "print(thetay)"
   ]
  },
  {
   "cell_type": "code",
   "execution_count": null,
   "id": "e758af40",
   "metadata": {},
   "outputs": [],
   "source": []
  },
  {
   "cell_type": "code",
   "execution_count": null,
   "id": "1ec32223",
   "metadata": {},
   "outputs": [],
   "source": [
    "x_steps = np.count_nonzero(xd)\n",
    "y_steps = np.count_nonzero(yd)\n",
    "print(x_steps, y_steps)"
   ]
  },
  {
   "cell_type": "code",
   "execution_count": null,
   "id": "4605cb36",
   "metadata": {
    "scrolled": true
   },
   "outputs": [],
   "source": [
    "steps = list(range(1,x_steps+1))\n",
    "print(steps)   "
   ]
  },
  {
   "cell_type": "code",
   "execution_count": null,
   "id": "e7baa9a1",
   "metadata": {
    "scrolled": true
   },
   "outputs": [],
   "source": [
    "plt.scatter(xd,yd,c=steps,cmap='rainbow_r')\n",
    "plt.colorbar(label='Time (s)')\n",
    "plt.title(\"Location over time\")\n",
    "plt.xlim(10.5,11.5)\n",
    "plt.ylim(9,10)\n",
    "plt.show()"
   ]
  },
  {
   "cell_type": "code",
   "execution_count": null,
   "id": "dc19e88c",
   "metadata": {},
   "outputs": [],
   "source": []
  },
  {
   "cell_type": "code",
   "execution_count": null,
   "id": "8f29503f",
   "metadata": {},
   "outputs": [],
   "source": []
  }
 ],
 "metadata": {
  "kernelspec": {
   "display_name": "Python 3 (ipykernel)",
   "language": "python",
   "name": "python3"
  },
  "language_info": {
   "codemirror_mode": {
    "name": "ipython",
    "version": 3
   },
   "file_extension": ".py",
   "mimetype": "text/x-python",
   "name": "python",
   "nbconvert_exporter": "python",
   "pygments_lexer": "ipython3",
   "version": "3.9.12"
  }
 },
 "nbformat": 4,
 "nbformat_minor": 5
}

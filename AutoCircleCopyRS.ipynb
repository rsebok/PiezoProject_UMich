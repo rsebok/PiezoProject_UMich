{
 "cells": [
  {
   "cell_type": "code",
   "execution_count": 19,
   "id": "674c1cfc",
   "metadata": {},
   "outputs": [],
   "source": [
    "import pyvisa as visa\n",
    "#import visa\n",
    "import time\n",
    "import cv2\n",
    "import sys\n",
    "import usb.core\n",
    "import usb.util\n",
    "from Movements import move_negX,move_posX,move_negY,move_posY"
   ]
  },
  {
   "cell_type": "code",
   "execution_count": null,
   "id": "51efa3d1",
   "metadata": {
    "scrolled": true
   },
   "outputs": [],
   "source": []
  },
  {
   "cell_type": "code",
   "execution_count": null,
   "id": "21a3dea1",
   "metadata": {},
   "outputs": [],
   "source": []
  },
  {
   "cell_type": "code",
   "execution_count": 25,
   "id": "543273ca",
   "metadata": {},
   "outputs": [],
   "source": [
    "def move_circle():\n",
    "    \n",
    "    move_negX(4,8)\n",
    "    move_negY(4,8)\n",
    "    move_posY(4,8)\n",
    "    move_posX(4,8)\n",
    "\n",
    "    "
   ]
  },
  {
   "cell_type": "code",
   "execution_count": 24,
   "id": "db5ba678",
   "metadata": {
    "scrolled": false
   },
   "outputs": [
    {
     "name": "stdout",
     "output_type": "stream",
     "text": [
      "posX 4 Vpp 8 s\n",
      "('USB0::0x2A8D::0x0387::CN61022130::0::INSTR', 'USB0::0xF4ED::0xEE3A::388C14124::0::INSTR', 'TCPIP0::K-34465A-15446::hislip0::INSTR', 'TCPIP0::K-34465A-15446::inst0::INSTR', 'TCPIP0::141.211.99.21::inst0::INSTR', 'ASRL1::INSTR', 'ASRL3::INSTR', 'ASRL4::INSTR', 'ASRL5::INSTR', 'ASRL6::INSTR', 'ASRL9::INSTR')\n",
      "*IDN BK Precision,4052,388C14124,1.01.01.31R1,02-00-00-22-26\n",
      "\n",
      "Configuring C1\n",
      "Done.\n",
      "posY 4 Vpp 8 s\n",
      "('USB0::0x2A8D::0x0387::CN61022130::0::INSTR', 'USB0::0xF4ED::0xEE3A::388C14124::0::INSTR', 'TCPIP0::K-34465A-15446::hislip0::INSTR', 'TCPIP0::K-34465A-15446::inst0::INSTR', 'TCPIP0::141.211.99.21::inst0::INSTR', 'ASRL1::INSTR', 'ASRL3::INSTR', 'ASRL4::INSTR', 'ASRL5::INSTR', 'ASRL6::INSTR', 'ASRL9::INSTR')\n",
      "*IDN BK Precision,4052,388C14124,1.01.01.31R1,02-00-00-22-26\n",
      "\n",
      "Configuring C2\n",
      "Done.\n",
      "negx 4 Vpp 8 s\n",
      "('USB0::0x2A8D::0x0387::CN61022130::0::INSTR', 'USB0::0xF4ED::0xEE3A::388C14124::0::INSTR', 'TCPIP0::K-34465A-15446::hislip0::INSTR', 'TCPIP0::K-34465A-15446::inst0::INSTR', 'TCPIP0::141.211.99.21::inst0::INSTR', 'ASRL1::INSTR', 'ASRL3::INSTR', 'ASRL4::INSTR', 'ASRL5::INSTR', 'ASRL6::INSTR', 'ASRL9::INSTR')\n",
      "*IDN BK Precision,4052,388C14124,1.01.01.31R1,02-00-00-22-26\n",
      "\n",
      "Configuring C1\n",
      "Done.\n",
      "negY 4 Vpp 8 s\n",
      "('USB0::0x2A8D::0x0387::CN61022130::0::INSTR', 'USB0::0xF4ED::0xEE3A::388C14124::0::INSTR', 'TCPIP0::K-34465A-15446::hislip0::INSTR', 'TCPIP0::K-34465A-15446::inst0::INSTR', 'TCPIP0::141.211.99.21::inst0::INSTR', 'ASRL1::INSTR', 'ASRL3::INSTR', 'ASRL4::INSTR', 'ASRL5::INSTR', 'ASRL6::INSTR', 'ASRL9::INSTR')\n",
      "*IDN BK Precision,4052,388C14124,1.01.01.31R1,02-00-00-22-26\n",
      "\n",
      "Configuring C2\n",
      "Done.\n"
     ]
    }
   ],
   "source": [
    "move_circle()"
   ]
  },
  {
   "cell_type": "code",
   "execution_count": null,
   "id": "f89cf766",
   "metadata": {},
   "outputs": [],
   "source": []
  }
 ],
 "metadata": {
  "kernelspec": {
   "display_name": "Python 3 (ipykernel)",
   "language": "python",
   "name": "python3"
  },
  "language_info": {
   "codemirror_mode": {
    "name": "ipython",
    "version": 3
   },
   "file_extension": ".py",
   "mimetype": "text/x-python",
   "name": "python",
   "nbconvert_exporter": "python",
   "pygments_lexer": "ipython3",
   "version": "3.9.12"
  }
 },
 "nbformat": 4,
 "nbformat_minor": 5
}

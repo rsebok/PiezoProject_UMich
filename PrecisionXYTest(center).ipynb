{
 "cells": [
  {
   "cell_type": "code",
   "execution_count": 1,
   "id": "f01f12d0",
   "metadata": {
    "scrolled": true
   },
   "outputs": [
    {
     "data": {
      "text/html": [
       "<div id=\"glowscript\" class=\"glowscript\"></div>"
      ],
      "text/plain": [
       "<IPython.core.display.HTML object>"
      ]
     },
     "metadata": {},
     "output_type": "display_data"
    },
    {
     "data": {
      "application/javascript": [
       "if (typeof Jupyter !== \"undefined\") { window.__context = { glowscript_container: $(\"#glowscript\").removeAttr(\"id\")};}else{ element.textContent = ' ';}"
      ],
      "text/plain": [
       "<IPython.core.display.Javascript object>"
      ]
     },
     "metadata": {},
     "output_type": "display_data"
    }
   ],
   "source": [
    "import time\n",
    "import sys\n",
    "import random\n",
    "import math\n",
    "import array\n",
    "import pandas as pd\n",
    "#from threading import Thread \n",
    "from AutoCircleCopyRS import move_circle\n",
    "from move_by_XY import moveXY\n",
    "from CenterPiezoRS import center_piezo\n",
    "from GrabLocation import grab_location\n",
    "#from BlasterDatacollection import dataB\n",
    "from Movements import move_negB,move_posB,move_negA,move_posA"
   ]
  },
  {
   "cell_type": "code",
   "execution_count": null,
   "id": "a65837d1",
   "metadata": {},
   "outputs": [],
   "source": []
  },
  {
   "cell_type": "code",
   "execution_count": 2,
   "id": "d62ad52f",
   "metadata": {},
   "outputs": [
    {
     "name": "stdout",
     "output_type": "stream",
     "text": [
      "Enter number of trials:5\n",
      "PrecisionXYTest_20230118_165633\n"
     ]
    }
   ],
   "source": [
    "trials = input('Enter number of trials:')\n",
    "name = 'PrecisionXYTest'\n",
    "t = time.localtime()\n",
    "current_time = time.strftime('_%Y%m%d_%H%M%S', t)\n",
    "name = name+current_time\n",
    "print(name)\n",
    "x = 0\n",
    "y = 0"
   ]
  },
  {
   "cell_type": "code",
   "execution_count": 3,
   "id": "d6cfd8fa",
   "metadata": {
    "scrolled": true
   },
   "outputs": [
    {
     "name": "stdout",
     "output_type": "stream",
     "text": [
      "Random point within max range: (5.436059302329089, 7.49339970120989)\n"
     ]
    }
   ],
   "source": [
    "#generate random destination\n",
    "circle_r = 1.75 #radius of the circle\n",
    "circle_x = 5.415049495711354 #center of the circle\n",
    "circle_y = 6.654107624668449\n",
    "alpha = 2 * math.pi * random.random() #random angle\n",
    "r = circle_r * math.sqrt(random.random()) #random radius\n",
    "randx = r * math.cos(alpha) + circle_x #calculating coordinates\n",
    "randy = r * math.sin(alpha) + circle_y\n",
    "print(\"Random point within max range:\", (randx, randy))\n",
    "dict = {'X': [randx], 'Y': [randy]}\n",
    "df = pd.DataFrame(dict)\n",
    "df.to_csv('.\\Results\\%s.csv' % name, mode='a', index=False, header=False)"
   ]
  },
  {
   "cell_type": "code",
   "execution_count": null,
   "id": "f1edd84e",
   "metadata": {
    "scrolled": false
   },
   "outputs": [
    {
     "data": {
      "text/html": [
       "<div id=\"glowscript\" class=\"glowscript\"></div>"
      ],
      "text/plain": [
       "<IPython.core.display.HTML object>"
      ]
     },
     "metadata": {},
     "output_type": "display_data"
    },
    {
     "data": {
      "application/javascript": [
       "if (typeof Jupyter !== \"undefined\") { window.__context = { glowscript_container: $(\"#glowscript\").removeAttr(\"id\")};}else{ element.textContent = ' ';}"
      ],
      "text/plain": [
       "<IPython.core.display.Javascript object>"
      ]
     },
     "metadata": {},
     "output_type": "display_data"
    },
    {
     "data": {
      "text/html": [
       "<div>\n",
       "<style scoped>\n",
       "    .dataframe tbody tr th:only-of-type {\n",
       "        vertical-align: middle;\n",
       "    }\n",
       "\n",
       "    .dataframe tbody tr th {\n",
       "        vertical-align: top;\n",
       "    }\n",
       "\n",
       "    .dataframe thead th {\n",
       "        text-align: right;\n",
       "    }\n",
       "</style>\n",
       "<table border=\"1\" class=\"dataframe\">\n",
       "  <thead>\n",
       "    <tr style=\"text-align: right;\">\n",
       "      <th></th>\n",
       "      <th>original_pos_xy</th>\n",
       "      <th>Final_pos_xy</th>\n",
       "      <th>max_xy</th>\n",
       "      <th>min_xy</th>\n",
       "      <th>Radius_x</th>\n",
       "      <th>Radius_y</th>\n",
       "      <th>Area</th>\n",
       "    </tr>\n",
       "  </thead>\n",
       "  <tbody>\n",
       "    <tr>\n",
       "      <th>0</th>\n",
       "      <td>(6.601, 7.153)</td>\n",
       "      <td>([6.601], [7.153])</td>\n",
       "      <td>(6.601, 7.153)</td>\n",
       "      <td>(6.601, 7.153)</td>\n",
       "      <td>0.0</td>\n",
       "      <td>0.0</td>\n",
       "      <td>0.0</td>\n",
       "    </tr>\n",
       "  </tbody>\n",
       "</table>\n",
       "</div>"
      ],
      "text/plain": [
       "  original_pos_xy        Final_pos_xy          max_xy          min_xy  \\\n",
       "0  (6.601, 7.153)  ([6.601], [7.153])  (6.601, 7.153)  (6.601, 7.153)   \n",
       "\n",
       "   Radius_x  Radius_y  Area  \n",
       "0       0.0       0.0   0.0  "
      ]
     },
     "metadata": {},
     "output_type": "display_data"
    },
    {
     "data": {
      "image/png": "[encoded data removed]",
      "text/plain": [
       "<Figure size 432x288 with 1 Axes>"
      ]
     },
     "metadata": {},
     "output_type": "display_data"
    },
    {
     "name": "stdout",
     "output_type": "stream",
     "text": [
      "trial # 3\n",
      "('USB0::0x2A8D::0x0387::CN61022130::0::INSTR', 'USB0::0xF4ED::0xEE3A::388C14124::0::INSTR', 'ASRL1::INSTR', 'ASRL3::INSTR', 'ASRL4::INSTR', 'ASRL5::INSTR', 'ASRL6::INSTR')\n",
      "Configuring C1\n",
      "Configuring C2\n",
      "Configuring C1\n"
     ]
    }
   ],
   "source": [
    "#loop through the test for n trials, unless condition met\n",
    "n = 1 \n",
    "while n <= int(trials):\n",
    "    print('trial #',n)\n",
    "    center_piezo() #send the piezo back to the center\n",
    "        \n",
    "    x,y = grab_location(name) #add new location to CSV\n",
    "    print(x,y)\n",
    "    dx = randx - x\n",
    "    dy = randy - y\n",
    "    print(dx,dy)\n",
    "    \n",
    "    moveXY(dx,dy) #try to move to destination\n",
    "    x,y = grab_location(name)\n",
    "    n += 1\n",
    "    \n",
    "    if (randx-.1) <= x <= (randx+.1) and (randy-.1) <= y <= (randy+.1): #check if destination reached\n",
    "        print(\"Win condition met.\")\n",
    "        break\n",
    "    \n",
    "else:\n",
    "    print('AutoTest complete.')"
   ]
  },
  {
   "cell_type": "code",
   "execution_count": null,
   "id": "7837d1cf",
   "metadata": {},
   "outputs": [],
   "source": []
  }
 ],
 "metadata": {
  "kernelspec": {
   "display_name": "Python 3 (ipykernel)",
   "language": "python",
   "name": "python3"
  },
  "language_info": {
   "codemirror_mode": {
    "name": "ipython",
    "version": 3
   },
   "file_extension": ".py",
   "mimetype": "text/x-python",
   "name": "python",
   "nbconvert_exporter": "python",
   "pygments_lexer": "ipython3",
   "version": "3.9.12"
  }
 },
 "nbformat": 4,
 "nbformat_minor": 5
}
